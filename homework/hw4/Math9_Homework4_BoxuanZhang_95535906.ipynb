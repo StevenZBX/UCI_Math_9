{
 "cells": [
  {
   "cell_type": "markdown",
   "metadata": {},
   "source": [
    "# Homework 4 (60pt)"
   ]
  },
  {
   "cell_type": "markdown",
   "metadata": {},
   "source": [
    "Double click this line and enter your name(first, last) and ID below:\n",
    "\n",
    "Name: Boxuan Zhang\n",
    "\n",
    "ID: 95535906"
   ]
  },
  {
   "cell_type": "markdown",
   "metadata": {},
   "source": [
    "**Homework instructions**\n",
    "* Write your **name** and **student ID** in the above section.\n",
    "* Make sure you have downloaded all related files from Canvas.\n",
    "* Write ALL answers and your Python code in this notebook file, make sure you write your code in the code cell and test it before submission.\n",
    "* You should only submit this notebook (.ipynb file) with all your answers and code, **all Python codes should be executed and have the required outputs.** \n",
    "* Rename this notebook as \"*Math9_HW4_(your name)_(your ID).ipynb*\" before submission!\n",
    "* You are responsible for checking UCI email and course Canvas page regularly for potential updates."
   ]
  },
  {
   "cell_type": "markdown",
   "metadata": {},
   "source": [
    "-------------------\n",
    "## Problem 1. Generating required lists (10pt) "
   ]
  },
  {
   "cell_type": "markdown",
   "metadata": {},
   "source": [
    "### (5pt) 1. Define a function ``mymatrix(n)``, which return a list-of-list A such that $A[i][j] = i^j$, for $i,j = 0, 1, ..., n-1$. (For example: the element of row $i$ , column $j$ has the value $i^j$, and ``mymatrix(2)`` returns ``[[1,0],[1,1]]``)\n",
    "\n",
    "(In Python, you don't need to write the in-script functions at the end of the notebook. Instead, you can write your function in the code cell below.)"
   ]
  },
  {
   "cell_type": "code",
   "execution_count": null,
   "metadata": {},
   "outputs": [],
   "source": [
    "# Define your function \"mymatrix(n)\"\n",
    "def mymatrix(n: int):\n",
    "    A = []\n",
    "    for i in range(0, n):\n",
    "        A.append([0 for _ in range(n)])\n",
    "        for j in range(0,n):\n",
    "            A[i][j] = i**j\n",
    "    return A"
   ]
  },
  {
   "cell_type": "code",
   "execution_count": 14,
   "metadata": {},
   "outputs": [
    {
     "name": "stdout",
     "output_type": "stream",
     "text": [
      "[[1, 0], [1, 1]]\n",
      "[[1, 0, 0], [1, 1, 1], [1, 2, 4]]\n"
     ]
    }
   ],
   "source": [
    "# Test your function by running this cell\n",
    "print(mymatrix(2))\n",
    "print(mymatrix(3))"
   ]
  },
  {
   "cell_type": "markdown",
   "metadata": {},
   "source": [
    "### (5pt) 2. Define a function ``cumulative_sum(x)``, which take a list of numbers ``x`` as the input, and modify ``x`` based on the following rule: the i-th element in ``x`` is the sum of the first i-th elements. For example: if ``x = [1,1,1]``, then the new ``x`` should be ``[1,2,3]``."
   ]
  },
  {
   "cell_type": "code",
   "execution_count": 70,
   "metadata": {},
   "outputs": [],
   "source": [
    "# Define your function \"cumulative_sum(n)\"\n",
    "def cumulative_sum(n):\n",
    "    new_lst = [n[0]]\n",
    "    for i in range(1,len(n)):\n",
    "        new_lst.append(n[i]+sum(n[:i]))\n",
    "    return new_lst\n",
    "\n"
   ]
  },
  {
   "cell_type": "code",
   "execution_count": 71,
   "metadata": {},
   "outputs": [
    {
     "name": "stdout",
     "output_type": "stream",
     "text": [
      "[1, 2, 3]\n",
      "[1, 3, 6, 10]\n"
     ]
    }
   ],
   "source": [
    "# Test your function using the provided inputs\n",
    "# Test 1\n",
    "y = [1,1,1]\n",
    "print(cumulative_sum(y))\n",
    "\n",
    "# Test 2\n",
    "y = [1,2,3,4]\n",
    "print(cumulative_sum(y))"
   ]
  },
  {
   "cell_type": "markdown",
   "metadata": {},
   "source": [
    "-------------------\n",
    "## Problem 2. Fibonacci sequence (8pt) "
   ]
  },
  {
   "cell_type": "markdown",
   "metadata": {},
   "source": [
    "### Fibonacci sequence is defined by recursive formula: $a_n=a_{n-1}+a_{n-2}$, $a_1=0$, $a_2=1$. Please use loops to generate the required outputs, do not define any new functions."
   ]
  },
  {
   "cell_type": "markdown",
   "metadata": {},
   "source": [
    "### (4pt) 1. Output the first 20 terms in Fibonacci sequence."
   ]
  },
  {
   "cell_type": "code",
   "execution_count": null,
   "metadata": {},
   "outputs": [
    {
     "name": "stdout",
     "output_type": "stream",
     "text": [
      "[0, 1, 1, 2, 3, 5, 8, 13, 21, 34, 55, 89, 144, 233, 377, 610, 987, 1597, 2584, 4181]\n"
     ]
    }
   ],
   "source": [
    "# Write your code below\n",
    "lst = [0 for _ in range(20)]\n",
    "lst[1] = 1\n",
    "for i in range(2, len(lst)):\n",
    "    lst[i] = lst[i-1] + lst[i-2]\n",
    "print(lst)"
   ]
  },
  {
   "cell_type": "markdown",
   "metadata": {},
   "source": [
    "### (4pt) 2. Output all terms that are smaller than 1000."
   ]
  },
  {
   "cell_type": "code",
   "execution_count": 65,
   "metadata": {},
   "outputs": [
    {
     "name": "stdout",
     "output_type": "stream",
     "text": [
      "0 1 1 2 3 5 8 13 21 34 55 89 144 233 377 610 987 "
     ]
    }
   ],
   "source": [
    "# Write your code below\n",
    "for i in lst:\n",
    "    if i < 1000:\n",
    "        print(i, end=' ')"
   ]
  },
  {
   "cell_type": "markdown",
   "metadata": {},
   "source": [
    "-------------------\n",
    "## Problem 3. Bisection method (10pt) "
   ]
  },
  {
   "cell_type": "markdown",
   "metadata": {},
   "source": [
    "### (5pt) 1. Recall the standard bisection method with one threshold (Module 8, In-class Exercise 1), and implement the method in Python by defining functionb ``bisection_python(f,a,b,f_thresh)``. This function should return the root of some function ``f`` using the bisection method, givin initial interval $[a,b]$ and threshold ``f_thresh``."
   ]
  },
  {
   "cell_type": "code",
   "execution_count": 18,
   "metadata": {},
   "outputs": [],
   "source": [
    "# Write your code below\n",
    "def bisection_python(f, a, b, f_thres):\n",
    "    c = (a+b) / 2\n",
    "    while abs(f(c)) > f_thres:\n",
    "        if f(a)*f(c) < 0:\n",
    "            b = c\n",
    "        elif f(a)*f(c)>0:\n",
    "            a = c\n",
    "        c = (a+b) / 2\n",
    "    return c\n"
   ]
  },
  {
   "cell_type": "markdown",
   "metadata": {},
   "source": [
    "### (3pt) 2. Define a test function ``test_fun(x)``, which takes number $x$ as the input, and return $x^2-x-1$. "
   ]
  },
  {
   "cell_type": "code",
   "execution_count": 15,
   "metadata": {},
   "outputs": [],
   "source": [
    "# Define the function \"test_fun(x)\" below\n",
    "def test_fun(x):\n",
    "    return x**2 - x -1"
   ]
  },
  {
   "cell_type": "code",
   "execution_count": 16,
   "metadata": {},
   "outputs": [
    {
     "name": "stdout",
     "output_type": "stream",
     "text": [
      "1\n",
      "5\n"
     ]
    }
   ],
   "source": [
    "# Test it by running the following codes\n",
    "print(test_fun(2))\n",
    "print(test_fun(3))"
   ]
  },
  {
   "cell_type": "markdown",
   "metadata": {},
   "source": [
    "### (2pt) 3. Read the online material: https://www.askpython.com/python/examples/pass-function-as-argument , and pass your funtion ``test_fun(x)`` to your bisection method (means your ``test_fun(x)`` should be the input ``f`` of the bisection method ``bisection_python(f,a,b,f_thresh)``). Then find its root in the interval $[0,2]$ with threshold $10^{-8}$."
   ]
  },
  {
   "cell_type": "code",
   "execution_count": null,
   "metadata": {},
   "outputs": [
    {
     "name": "stdout",
     "output_type": "stream",
     "text": [
      "1.6180340051651\n"
     ]
    }
   ],
   "source": [
    "# Write your code below\n",
    "a = 0\n",
    "b = 2\n",
    "thres = 10e-8\n",
    "print(bisection_python(test_fun, a, b, thres))"
   ]
  },
  {
   "cell_type": "markdown",
   "metadata": {},
   "source": [
    "-------------------\n",
    "## Problem 4. Palindrome numbers (12pt)"
   ]
  },
  {
   "cell_type": "markdown",
   "metadata": {},
   "source": [
    "### A palindrome number is a number that is the same after reverse, such as 1221 and 12321. The goal of Problem 4 is to write a function to check if the given number is a palindrome number."
   ]
  },
  {
   "cell_type": "markdown",
   "metadata": {},
   "source": [
    "### (1pt) 1. Write your python codes (without writting a new function) in the cell below to calculate the reminder of $121$ divided by $10$ (which is similar to the ``mod`` function in MATLAB). (You can find helpful materials online.) "
   ]
  },
  {
   "cell_type": "code",
   "execution_count": 20,
   "metadata": {},
   "outputs": [
    {
     "name": "stdout",
     "output_type": "stream",
     "text": [
      "1\n"
     ]
    }
   ],
   "source": [
    "# Write your code below\n",
    "print(121 % 10)"
   ]
  },
  {
   "cell_type": "markdown",
   "metadata": {},
   "source": [
    "### (2pt) 2. Read online materials about Python operators ``/`` and ``//``, and use 1~2 sentences to introduce each one. Write your answer in the markdown cell below."
   ]
  },
  {
   "cell_type": "markdown",
   "metadata": {},
   "source": [
    "*Write your answer below*"
   ]
  },
  {
   "cell_type": "markdown",
   "metadata": {},
   "source": [
    "/ can conduct divise and calculate to the float number, // can also conduct divise but only keep the integer"
   ]
  },
  {
   "cell_type": "markdown",
   "metadata": {},
   "source": [
    "### (7pt) 3. Write function ``palindrome_check(n)``, which takes an integer as the input, and print \"This is a palindrome number!\" if the input is equal to its reverse. Otherwise, print \"This is not a palindrome number!\". You can write the function based on the following hints:\n",
    "* Define a variable (for example: ``reverse_n``) to store the reverse number, its initial value is 0. \n",
    "* When ``n`` is positive, then we can start generating its reverse number.\n",
    "* The first digit (from right to left) of ``reverse_n`` is the last digit of ``n``, which is the reminder of \"n divided by 10\".\n",
    "* Then we remove the last digit of ``n``.\n",
    "* The second digit of ``reverse_n`` is the last digit of the updated ``n``, which is the reminder of \"n divided by 10\".\n",
    "* Then we continue such iteration, and stop when ``n`` becomes non-positive.\n",
    "* We check if our input is equal to its reverse number, and display the corresponding message."
   ]
  },
  {
   "cell_type": "code",
   "execution_count": 39,
   "metadata": {},
   "outputs": [],
   "source": [
    "# Write your function below\n",
    "def palindrome_check(n):\n",
    "    original = n\n",
    "    reverse_n = 0\n",
    "    while n > 0:\n",
    "        digit = n % 10\n",
    "        reverse_n = reverse_n * 10 + digit\n",
    "        n = n // 10\n",
    "    if reverse_n == original:\n",
    "        print(\"This is a palindrome number!\")\n",
    "    else:\n",
    "        print(\"This is not a palindrome number!\")\n"
   ]
  },
  {
   "cell_type": "markdown",
   "metadata": {},
   "source": [
    "### (2pt) 4. Run the code cell below to check your function."
   ]
  },
  {
   "cell_type": "code",
   "execution_count": 40,
   "metadata": {},
   "outputs": [
    {
     "name": "stdout",
     "output_type": "stream",
     "text": [
      "This is a palindrome number!\n",
      "This is not a palindrome number!\n"
     ]
    }
   ],
   "source": [
    "# Run this cell to check your function\n",
    "palindrome_check(1223221)\n",
    "palindrome_check(1234)"
   ]
  },
  {
   "cell_type": "markdown",
   "metadata": {},
   "source": [
    "-------------------\n",
    "## Problem 5. The greatest common divisor (GCD) of two numbers (15pt) "
   ]
  },
  {
   "cell_type": "markdown",
   "metadata": {},
   "source": [
    "Euclidean Algorithm is a method for computing the greatest common divisor (GCD) of two numbers, which are the largest numbers that divide both of them without leaving a remainder. The algorithm is based on the principle that the greatest common divisor of two numbers does not change if the larger number is replaced by its difference with the smaller number. \n",
    "\n",
    "More information about the Euclidean Algorithm can be found here: https://sites.math.rutgers.edu/~greenfie/gs2004/euclid.html\n",
    "\n",
    "**For example**, the GCD of 252 and 105 is the same as the GCD of 147 (which is 252 - 105) and 105. We repeat the process: subtract the smaller number from the larger one, **until two numbers are the same**, which will be the GCD.\n",
    "\n",
    "The process of finding the GCD of 252 and 105: (252,105) -> (147,105) -> (42,105) -> (42, 63) -> (42, 21) -> (21, 21), so 21 is the GCD of (252,105)."
   ]
  },
  {
   "cell_type": "markdown",
   "metadata": {},
   "source": [
    "### (5pt) 1. Please write a Python function `gcd(a, b)` which takes two positive integers `a` and `b` as the inputs and returns their GCD using the Euclidean Algorithm. \n",
    "\n",
    "(The function should use a while loop to repeatedly replace the larger number by its difference with the smaller number until the two numbers become equal, which will be the GCD.)"
   ]
  },
  {
   "cell_type": "code",
   "execution_count": null,
   "metadata": {},
   "outputs": [],
   "source": [
    "# Define your function \"gcd(a, b)\"\n",
    "def gcd(a,b):\n",
    "    while a != b:\n",
    "        if a > b:\n",
    "            a = a - b\n",
    "        elif a < b:\n",
    "            b = b - a\n",
    "    return a"
   ]
  },
  {
   "cell_type": "code",
   "execution_count": 42,
   "metadata": {},
   "outputs": [
    {
     "name": "stdout",
     "output_type": "stream",
     "text": [
      "21\n",
      "1\n",
      "7\n"
     ]
    }
   ],
   "source": [
    "# Test your function by running this cell\n",
    "print(gcd(252,105))\n",
    "print(gcd(11,12))\n",
    "print(gcd(7,7))"
   ]
  },
  {
   "cell_type": "markdown",
   "metadata": {},
   "source": [
    "### (5pt) 2. One prerequirement of using the function `gcd(a, b)` is that both `a` and `b` have to be positive integers. Can we write a function to check if a number is a positive integer? Please write a Python function `is_pos_int(x)` which takes any number `x` as the input and returns `True` (if it is a positive integer) or `False` (if not).\n",
    "\n",
    "(The `isinstance()` function in Python returns `True` if the specified object is of the specified type, otherwise `False`, so you can use it to determine if `x` is an integer or not.)"
   ]
  },
  {
   "cell_type": "code",
   "execution_count": null,
   "metadata": {},
   "outputs": [],
   "source": [
    "# Define your function \"is_pos_int(x)\"\n",
    "def is_pos_int(x):\n",
    "    if isinstance(x, int) and x > 0:\n",
    "        return True\n",
    "    else:\n",
    "        return False"
   ]
  },
  {
   "cell_type": "code",
   "execution_count": 46,
   "metadata": {},
   "outputs": [
    {
     "name": "stdout",
     "output_type": "stream",
     "text": [
      "True\n",
      "False\n",
      "False\n"
     ]
    }
   ],
   "source": [
    "# Test your function by running this cell\n",
    "print(is_pos_int(10))\n",
    "print(is_pos_int(5.5))\n",
    "print(is_pos_int(-2))"
   ]
  },
  {
   "cell_type": "markdown",
   "metadata": {},
   "source": [
    "### (5pt) 3. Based on your function `gcd(a, b)`, write function `gcd2(a, b)` which is an improved version of `gcd(a, b)`. Here, the inputs `a` and `b` can be any numbers, and your function `gcd2(a, b)` should return to you the message `Input must be positive integers!` if  `a` and `b` are not all positive integers (you can use a `if` statement with two conditional statements connecting by `or`). Otherwise it returns their GCD. "
   ]
  },
  {
   "cell_type": "code",
   "execution_count": 74,
   "metadata": {},
   "outputs": [],
   "source": [
    "# Define your function \"gcd2(a, b)\"\n",
    "def gcd2(a,b):\n",
    "    if is_pos_int(a) and is_pos_int(b):\n",
    "        return gcd(a,b)\n",
    "    else:\n",
    "        return \"Input must be positive integers!\""
   ]
  },
  {
   "cell_type": "code",
   "execution_count": null,
   "metadata": {},
   "outputs": [
    {
     "name": "stdout",
     "output_type": "stream",
     "text": [
      "Input must be positive integers!\n",
      "Input must be positive integers!\n",
      "7\n"
     ]
    }
   ],
   "source": [
    "# Test your function by running this cell\n",
    "print(gcd2(-7, 21))\n",
    "print(gcd2(7, -21))\n",
    "print(gcd2(7, 21))"
   ]
  },
  {
   "cell_type": "markdown",
   "metadata": {},
   "source": [
    "-------------------\n",
    "## Problem 6. Comparison of Python and MATLAB (5pt)"
   ]
  },
  {
   "cell_type": "markdown",
   "metadata": {},
   "source": [
    "### Being two popular programming languages, Python and MATLAB share some similarities while having a lot of differences. Based on your experience (from the lectures and homework assignments),  what are the top 5 similarities and differences you think between Python and MATLAB? Please list them in the markdown cell below. These similarities and differences can come from the overall interface, the live script and notebook files, grammar of writing code, etc."
   ]
  },
  {
   "cell_type": "markdown",
   "metadata": {},
   "source": [
    "#### Top 5 similarities:\n",
    "* 1. Both of them have similar synatx, like assign value to a variable and for loop, while loop.\n",
    "* 2. Bothn of them support live script.\n",
    "* 3. The function of both languages supprt input parameter and return value.\n",
    "* 4. Both of them can do the mathatical calculation including matrix multiplication.\n",
    "* 5. Both of them have similar logcal operator like +,-,*,/ and ==, >=, <=, !=.\n",
    "\n",
    "#### Top 5 differences:\n",
    "* 1. Matlab focuses to the mathmatical calculation and python includes more other apsects.\n",
    "* 2. Matlab has many built-in function like zeros, plot and python needs to import modules to get these functions.\n",
    "* 3. The code style of python function is defining functions in the front, but matlab defines the function in the behind of the script.\n",
    "* 4. Self-defined matlab fucntion need to use end to close the function , but python does not need to do that.\n",
    "* 5. Matlab can store the data in workplace to the .mat format file, but python can not store the data."
   ]
  },
  {
   "cell_type": "markdown",
   "metadata": {},
   "source": [
    "-------------------\n",
    "## Reference and Acknowledgement (optional)"
   ]
  },
  {
   "cell_type": "markdown",
   "metadata": {},
   "source": [
    "**You may list all the materials you referred to (including online materials and papers) and acknowledge the people who helped you in this section.**"
   ]
  },
  {
   "cell_type": "markdown",
   "metadata": {},
   "source": [
    "-------------------\n",
    "## Other Comments (optional)"
   ]
  },
  {
   "cell_type": "markdown",
   "metadata": {},
   "source": [
    "**You are welcome to leave your course-related comments here (lecture, homework, discussion session, etc.), you can also leave your comments in the Ed discussion panel or via email.**"
   ]
  }
 ],
 "metadata": {
  "kernelspec": {
   "display_name": "Python 3",
   "language": "python",
   "name": "python3"
  },
  "language_info": {
   "codemirror_mode": {
    "name": "ipython",
    "version": 3
   },
   "file_extension": ".py",
   "mimetype": "text/x-python",
   "name": "python",
   "nbconvert_exporter": "python",
   "pygments_lexer": "ipython3",
   "version": "3.11.11"
  }
 },
 "nbformat": 4,
 "nbformat_minor": 4
}
