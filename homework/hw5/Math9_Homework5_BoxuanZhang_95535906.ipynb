{
 "cells": [
  {
   "cell_type": "markdown",
   "metadata": {},
   "source": [
    "# Homework 5 (60pt)"
   ]
  },
  {
   "cell_type": "markdown",
   "metadata": {},
   "source": [
    "Double click this line and enter your name(first, last) and ID below:\n",
    "\n",
    "Name: Boxuan Zhang\n",
    "\n",
    "ID: 95535906"
   ]
  },
  {
   "cell_type": "markdown",
   "metadata": {},
   "source": [
    "**Homework instructions**\n",
    "* Write your **name** and **student ID** in the above section.\n",
    "* Make sure you have downloaded all related files from Canvas.\n",
    "* Write ALL answers and your Python code in this notebook file, make sure you write your code in the code cell and test it before submission.\n",
    "* You should only submit this notebook (.ipynb file) with all your answers and code, **all Python codes should be executed and have the required outputs.** \n",
    "* Rename this notebook as \"*Math9_HW5_(your name)_(your ID).ipynb*\" before submission!\n",
    "* You are responsible for checking UCI email and course Canvas page regularly for potential updates."
   ]
  },
  {
   "cell_type": "markdown",
   "metadata": {},
   "source": [
    "-------------------\n",
    "## Problem 1. Numpy operation (8pt) "
   ]
  },
  {
   "cell_type": "markdown",
   "metadata": {},
   "source": [
    "### Define a function `Vandmatrix(x)`, which takes a list of numbers $[x_1, x_2, \\cdots x_n]$ as the input, and return the n-by-n square Vandermonde matrix (defined below) as `numpy.ndarray`.\n",
    "\n",
    "$$\\begin{bmatrix} \n",
    "1 & x_1 & x_1^2 & \\dots & x_1^{n-1}\\\\ \n",
    "1 & x_2 & x_2^2 & \\dots & x_2^{n-1}\\\\ \n",
    "1 & x_3 & x_3^2 & \\dots & x_3^{n-1}\\\\ \n",
    "\\vdots & \\vdots & \\vdots & \\ddots & \\vdots\\\\ \n",
    "1 & x_n & x_n^2 & \\dots & x_n^{n-1}\\\\ \n",
    "\\end{bmatrix}$$"
   ]
  },
  {
   "cell_type": "code",
   "execution_count": 1,
   "metadata": {},
   "outputs": [],
   "source": [
    "import numpy as np"
   ]
  },
  {
   "cell_type": "code",
   "execution_count": 5,
   "metadata": {},
   "outputs": [],
   "source": [
    "# Write your code below\n",
    "def Vandmatrix(x):\n",
    "    return np.array([[num**j for j in range(len(x))] for num in x])\n",
    "        "
   ]
  },
  {
   "cell_type": "code",
   "execution_count": 6,
   "metadata": {},
   "outputs": [
    {
     "data": {
      "text/plain": [
       "array([[ 1,  1,  1,  1],\n",
       "       [ 1,  2,  4,  8],\n",
       "       [ 1,  3,  9, 27],\n",
       "       [ 1,  4, 16, 64]])"
      ]
     },
     "execution_count": 6,
     "metadata": {},
     "output_type": "execute_result"
    }
   ],
   "source": [
    "# Test your function by running this cell\n",
    "x = [1,2,3,4]\n",
    "Vandmatrix(x)"
   ]
  },
  {
   "cell_type": "markdown",
   "metadata": {},
   "source": [
    "-------------------\n",
    "## Problem 2. Applications of list comprehension (16pt) "
   ]
  },
  {
   "cell_type": "markdown",
   "metadata": {},
   "source": [
    "### (2pt) 1. Define list `x`: a length 10 Numpy array of random integers between 0 (inclusive) and 100 (exclusive), and print your `x`."
   ]
  },
  {
   "cell_type": "code",
   "execution_count": 15,
   "metadata": {},
   "outputs": [
    {
     "name": "stdout",
     "output_type": "stream",
     "text": [
      "[54 73 13  0 85  1 52  0 92 32]\n"
     ]
    }
   ],
   "source": [
    "# Write your code below\n",
    "x = np.random.randint(0, 100, size=10)\n",
    "print(x)"
   ]
  },
  {
   "cell_type": "markdown",
   "metadata": {},
   "source": [
    "### (4pt) 2. Use `for` loop to select all the even numbers in `x`, store all the even numbers in the list `result`, and print your list `result`.\n",
    "\n",
    "(Do not define a new function.)"
   ]
  },
  {
   "cell_type": "code",
   "execution_count": 16,
   "metadata": {},
   "outputs": [
    {
     "name": "stdout",
     "output_type": "stream",
     "text": [
      "[54, 0, 52, 0, 92, 32]\n"
     ]
    }
   ],
   "source": [
    "# Write your code below\n",
    "result = []\n",
    "for num in x:\n",
    "    if num % 2 == 0:\n",
    "        result.append(int(num))\n",
    "print(result)"
   ]
  },
  {
   "cell_type": "markdown",
   "metadata": {},
   "source": [
    "### (4pt) 3. Use list comprehension to achieve the same goal: select all the even numbers in `x`, store all the even numbers in the list `result`, and print your list `result`."
   ]
  },
  {
   "cell_type": "code",
   "execution_count": 17,
   "metadata": {},
   "outputs": [
    {
     "name": "stdout",
     "output_type": "stream",
     "text": [
      "[54, 0, 52, 0, 92, 32]\n"
     ]
    }
   ],
   "source": [
    "# Write your code below\n",
    "result = [int(num) for num in x if num%2==0]\n",
    "print(result)"
   ]
  },
  {
   "cell_type": "markdown",
   "metadata": {},
   "source": [
    "### (3pt) 4. Use list comprehension to generate the list of all the odd numbers less than 40"
   ]
  },
  {
   "cell_type": "code",
   "execution_count": 20,
   "metadata": {},
   "outputs": [
    {
     "name": "stdout",
     "output_type": "stream",
     "text": [
      "[1, 3, 5, 7, 9, 11, 13, 15, 17, 19, 21, 23, 25, 27, 29, 31, 33, 35, 37, 39]\n"
     ]
    }
   ],
   "source": [
    "# Write your code below\n",
    "odd = [num for num in range(40) if num%2!=0]\n",
    "print(odd)\n"
   ]
  },
  {
   "cell_type": "markdown",
   "metadata": {},
   "source": [
    "### (3pt) 5. Use list comprehension to generate the list of 20 Alternating 1s and -1s: [1, -1, ....]"
   ]
  },
  {
   "cell_type": "code",
   "execution_count": 23,
   "metadata": {},
   "outputs": [
    {
     "name": "stdout",
     "output_type": "stream",
     "text": [
      "[1, -1, 1, -1, 1, -1, 1, -1, 1, -1, 1, -1, 1, -1, 1, -1, 1, -1, 1, -1]\n"
     ]
    }
   ],
   "source": [
    "# Write your code below\n",
    "lst = [1 if i%2==0 else -1 for i in range(20)]\n",
    "print(lst)\n"
   ]
  },
  {
   "cell_type": "markdown",
   "metadata": {},
   "source": [
    "-------------------\n",
    "## Problem 3. The birthday problem (9pt) "
   ]
  },
  {
   "cell_type": "markdown",
   "metadata": {},
   "source": [
    "How many people do we need in a class so that: the probability of **at least two people having the same birthday** is more than 50%? Assuming 365 days a year. Let's answer this question using random experiments."
   ]
  },
  {
   "cell_type": "markdown",
   "metadata": {},
   "source": [
    "### (5pt) 1. Define a function `Estprob(n, N)` which takes two positive integers `n` and `N` as the inputs. Here `n` is the total number of people in the class, `N` is the total number of random experiments. This function returns the estimated probability of \"at least two people having the same birthday\". The input is an integer that represents the number of people, the output is an estimation of the probability that two people have the same birthday.\n",
    "\n",
    "Hints: birthdays of these `n` people can be decribed by \"random integers between 1 and 365 (both are inclusive)\", and use `np.unique` function to select the unique dates of these birthdays. If there are two people having the same birthday, then the length of the \"unique dates\" should be shorter than `n`."
   ]
  },
  {
   "cell_type": "code",
   "execution_count": 56,
   "metadata": {},
   "outputs": [],
   "source": [
    "# Define your function \"Estprob(n, N)\"\n",
    "def Estprob(n, N):\n",
    "    count = 0\n",
    "    for i in range(N):\n",
    "        birday = [np.random.randint(1,365) for _ in range(n)]\n",
    "        if len(birday) != len(set(birday)):\n",
    "            count += 1\n",
    "    return count / N\n",
    "    \n"
   ]
  },
  {
   "cell_type": "code",
   "execution_count": 58,
   "metadata": {},
   "outputs": [
    {
     "name": "stdout",
     "output_type": "stream",
     "text": [
      "0.9674\n",
      "0.895\n",
      "0.7096\n"
     ]
    }
   ],
   "source": [
    "# Test your function by running this cell\n",
    "print(Estprob(50, 10000))\n",
    "print(Estprob(40, 10000))\n",
    "print(Estprob(30, 10000))"
   ]
  },
  {
   "cell_type": "markdown",
   "metadata": {},
   "source": [
    "### (4pt) 2. Based on the above tests, we know that with 10000 random experiments and 50 people, the estimated probabiliy of \"at least two people having the same birthday\" is over 90%. Now if we still select `N=10000`, at least how many people do we need to make the estimated probability larger than 60%? \n",
    "\n",
    "**Requirement**: Write a for loop to test `n` from 1 to 50, and stops when the estimated probabiliy is larger than 60%, print the corresponding `n` (do not define a new function)."
   ]
  },
  {
   "cell_type": "code",
   "execution_count": 59,
   "metadata": {},
   "outputs": [
    {
     "name": "stdout",
     "output_type": "stream",
     "text": [
      "26\n"
     ]
    }
   ],
   "source": [
    "# Write your code below\n",
    "for i in range(1,51):\n",
    "    prob = Estprob(i, 10000)\n",
    "    if prob > 0.6:\n",
    "        print(i)\n",
    "        break"
   ]
  },
  {
   "cell_type": "markdown",
   "metadata": {},
   "source": [
    "-------------------\n",
    "## Problem 4. Counting the frequency of words in the text (13pt) "
   ]
  },
  {
   "cell_type": "markdown",
   "metadata": {},
   "source": [
    "Counting the frequency of words in some text is a fundamental task in natural language processing (for example, filtering out spam messages). "
   ]
  },
  {
   "cell_type": "markdown",
   "metadata": {},
   "source": [
    "### (3pt) 1. Input the sentence \"This sentence will be used to test your function of counting the frequency of words in the text.\" as a string, split the string to a list of words, name the list to `list_of_words`, and print the list. "
   ]
  },
  {
   "cell_type": "code",
   "execution_count": 49,
   "metadata": {},
   "outputs": [
    {
     "name": "stdout",
     "output_type": "stream",
     "text": [
      "['This', 'sentence', 'will', 'be', 'used', 'to', 'test', 'your', 'function', 'of', 'counting', 'the', 'frequency', 'of', 'words', 'in', 'the', 'text.']\n"
     ]
    }
   ],
   "source": [
    "# write your code here.\n",
    "list_of_words = \"This sentence will be used to test your function of counting the frequency of words in the text.\".split()\n",
    "print(list_of_words)\n"
   ]
  },
  {
   "cell_type": "markdown",
   "metadata": {},
   "source": [
    "### (7pt) 2. Define a function ``count_words()`` which takesa list of words as the input, and return a dictionary that includes each word and the frequency they appear in the list. \n",
    "\n",
    "For example, ``count_words(['a', 'a', 'b'])`` returns ``{'a':2, 'b':1}``"
   ]
  },
  {
   "cell_type": "code",
   "execution_count": 50,
   "metadata": {},
   "outputs": [],
   "source": [
    "# define your function \"count_words\" here.\n",
    "def count_words(lst):\n",
    "    dic = {}\n",
    "    for word in lst:\n",
    "        if word in dic:\n",
    "            dic[word] += 1\n",
    "        else:\n",
    "            dic[word] = 1\n",
    "    return dic"
   ]
  },
  {
   "cell_type": "code",
   "execution_count": 51,
   "metadata": {},
   "outputs": [
    {
     "data": {
      "text/plain": [
       "{'This': 1,\n",
       " 'sentence': 1,\n",
       " 'will': 1,\n",
       " 'be': 1,\n",
       " 'used': 1,\n",
       " 'to': 1,\n",
       " 'test': 1,\n",
       " 'your': 1,\n",
       " 'function': 1,\n",
       " 'of': 2,\n",
       " 'counting': 1,\n",
       " 'the': 2,\n",
       " 'frequency': 1,\n",
       " 'words': 1,\n",
       " 'in': 1,\n",
       " 'text.': 1}"
      ]
     },
     "execution_count": 51,
     "metadata": {},
     "output_type": "execute_result"
    }
   ],
   "source": [
    "# test your function by running this cell\n",
    "count_words(list_of_words)"
   ]
  },
  {
   "cell_type": "markdown",
   "metadata": {},
   "source": [
    "### (3pt) 3. Change all the values in the above dictionary to `100`, and print your new dictionary.\n",
    "\n",
    "Hint: you can search the key words \"Change all the values in a dictionary\" for helpful information."
   ]
  },
  {
   "cell_type": "code",
   "execution_count": 55,
   "metadata": {},
   "outputs": [
    {
     "name": "stdout",
     "output_type": "stream",
     "text": [
      "{'This': 100, 'sentence': 100, 'will': 100, 'be': 100, 'used': 100, 'to': 100, 'test': 100, 'your': 100, 'function': 100, 'of': 100, 'counting': 100, 'the': 100, 'frequency': 100, 'words': 100, 'in': 100, 'text.': 100}\n"
     ]
    }
   ],
   "source": [
    "# Write your code below\n",
    "dic = count_words(list_of_words)\n",
    "for  key in dic.keys():\n",
    "    dic[key] = 100\n",
    "print(dic)"
   ]
  },
  {
   "cell_type": "markdown",
   "metadata": {},
   "source": [
    "-------------------\n",
    "## Problem 5. Applications of the Matplotlib library  (14pt) "
   ]
  },
  {
   "cell_type": "markdown",
   "metadata": {},
   "source": [
    "### (4pt) 1. Preparation (please follow the instructions below).\n",
    "\n",
    "* Import libraries Numpy and Matplotlib.\n",
    "* Use the `linspace` function to creat a total number of 100 points from $-2$ to $2$.\n",
    "* Consider the function $f(x) = x^3-2x+1$, use lambda function `f` and `df` to define $f(x)$ and its derivative function $f'(x)$, respectively."
   ]
  },
  {
   "cell_type": "code",
   "execution_count": 94,
   "metadata": {},
   "outputs": [],
   "source": [
    "# Write your code below\n",
    "import matplotlib.pyplot as plt\n",
    "x = np.linspace(-2,2,100)\n",
    "f = lambda x: x**3 - 2*x + 1\n",
    "df = lambda x: 3*(x**2) - 2"
   ]
  },
  {
   "cell_type": "markdown",
   "metadata": {},
   "source": [
    "### (2pt) 2. Plot the function $f(x) = x^3-2x+1$ on the interval [-2 2] using your defined lambda function and x (which is genrated using the `linspace` function)."
   ]
  },
  {
   "cell_type": "code",
   "execution_count": 100,
   "metadata": {},
   "outputs": [
    {
     "data": {
      "image/png": "[encoded data removed]",
      "text/plain": [
       "<Figure size 640x480 with 1 Axes>"
      ]
     },
     "metadata": {},
     "output_type": "display_data"
    }
   ],
   "source": [
    "# Write your code below to plot the figure\n",
    "plt.plot(x, f(x));"
   ]
  },
  {
   "cell_type": "markdown",
   "metadata": {},
   "source": [
    "### (3pt) 3. For a given point $x_0$, we know the equation for the tangent line at $x_0$ is $y=f(x_0)+f'(x_0)(x-x_0)$. So please define a function `tanline_generator(x0, f, df)`, which takes a point `x0`, function `f`, and its derivative function `df` as the inputs, and output the corresponding tangent line function.\n",
    "\n",
    "Hints: your function return can be a lambda function of the tangent line. You can also check out these online materials:\n",
    "* https://www.geeksforgeeks.org/returning-a-function-from-a-function-python/\n",
    "* https://www.tutorialspoint.com/How-can-a-Python-function-return-a-function"
   ]
  },
  {
   "cell_type": "code",
   "execution_count": 96,
   "metadata": {},
   "outputs": [],
   "source": [
    "# define your function \"tanline_generator\" below\n",
    "def tanline_generator(x0, f, df):\n",
    "    return f(x0) + df(x0) * (x-x0)\n"
   ]
  },
  {
   "cell_type": "code",
   "execution_count": 97,
   "metadata": {},
   "outputs": [],
   "source": [
    "# you can get the equations for the tangent lines at different locations easily\n",
    "\n",
    "tl_1 = tanline_generator(1.5,f,df) # equation for tangent line at x=1.5\n",
    "tl_2 = tanline_generator(-1.5,f,df) # equation for tangent line at x=-1.5"
   ]
  },
  {
   "cell_type": "markdown",
   "metadata": {},
   "source": [
    "### (5pt) 4. Use Matplotlib to plot the following elements in ONE figure, and improve your figure accordingly.\n",
    "\n",
    "* The figure you plotted in part 2. \n",
    "* The tangent line of f(x) at x = -1.5.\n",
    "* The tangent line of f(x) at x = 1.5.\n",
    "* Improve your figure: show the x-axis, y-axis, and the grid lines"
   ]
  },
  {
   "cell_type": "code",
   "execution_count": 107,
   "metadata": {},
   "outputs": [
    {
     "data": {
      "image/png": "[encoded data removed]",
      "text/plain": [
       "<Figure size 640x480 with 1 Axes>"
      ]
     },
     "metadata": {},
     "output_type": "display_data"
    }
   ],
   "source": [
    "# write your code here\n",
    "plt.plot(x,f(x), label='f(x)')\n",
    "plt.plot(x,tl_1, label='tangent1')\n",
    "plt.plot(x,tl_2, label='tangent2')\n",
    "\n",
    "plt.axhline(0,color=\"black\");\n",
    "plt.axvline(0,color=\"black\");\n",
    "plt.grid(True);\n",
    "plt.legend();\n",
    "plt.xlabel(\"x-axis\");\n",
    "plt.ylabel(\"y-axis\");"
   ]
  },
  {
   "cell_type": "markdown",
   "metadata": {},
   "source": [
    "-------------------\n",
    "## Reference and Acknowledgement"
   ]
  },
  {
   "cell_type": "markdown",
   "metadata": {},
   "source": [
    "**You may list all the materials you referred to (including online materials and papers) and acknowledge the people who helped you in this section.**"
   ]
  },
  {
   "cell_type": "markdown",
   "metadata": {},
   "source": [
    "-------------------\n",
    "## Other Comments (optional)"
   ]
  },
  {
   "cell_type": "markdown",
   "metadata": {},
   "source": [
    "**You are welcome to leave your course-related comments here (lecture, homework, discussion session, etc.), you can also leave your comments in the Ed discussion panel or via email.**"
   ]
  }
 ],
 "metadata": {
  "kernelspec": {
   "display_name": "Python 3",
   "language": "python",
   "name": "python3"
  },
  "language_info": {
   "codemirror_mode": {
    "name": "ipython",
    "version": 3
   },
   "file_extension": ".py",
   "mimetype": "text/x-python",
   "name": "python",
   "nbconvert_exporter": "python",
   "pygments_lexer": "ipython3",
   "version": "3.11.11"
  }
 },
 "nbformat": 4,
 "nbformat_minor": 4
}
