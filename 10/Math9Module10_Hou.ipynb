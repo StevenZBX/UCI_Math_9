{
 "cells": [
  {
   "cell_type": "markdown",
   "id": "84077179",
   "metadata": {},
   "source": [
    "# Module 10: Jupyter Notebook and Python Data Types"
   ]
  },
  {
   "cell_type": "markdown",
   "id": "b2dadb52-5513-4f20-8f1f-b02845644861",
   "metadata": {},
   "source": [
    "## Overview\n",
    "\n",
    "While MATLAB excels in specialized numerical computations and simulations, Python's strength lies in its flexibility, extensive community support (open-source), and applications across a wide array of disciplines, making it a popular choice for diverse programming tasks.\n",
    "\n",
    "Python is: \n",
    "1. the preferred language for data analysis, machine learning, and artificial intelligence tasks due to libraries like NumPy, Pandas, SciPy, and scikit-learn.\n",
    "2. extensively used in scientific research and engineering computations due to its libraries like SciPy, SymPy, and Matplotlib, facilitating advanced scientific simulations and data visualization.\n",
    "\n",
    "__What is a python library?__ \n",
    "<ul>\n",
    "<li>A Python library, therefore, is a collection of Python modules containing functions, methods, and classes that allow you to perform specific actions without writing your own code for these tasks.</li>\n",
    "<li>Python libraries are designed to simplify the programming process, and they cover a wide range of domains, such as data analysis, web development, machine learning, scientific computing, and more.</li>\n",
    "<li>When you import a library into your Python script or program, you gain access to its predefined functions and classes.</li>\n",
    "<li>By utilizing libraries, developers can save time and effort, they can leverage the existing solutions provided by these libraries, allowing for faster development and more efficient code. Python's extensive library ecosystem is one of the reasons why it is so popular among developers for various applications.</li>\n",
    "</ul>"
   ]
  },
  {
   "cell_type": "markdown",
   "id": "ca06f563",
   "metadata": {},
   "source": [
    "## Getting Started with Jupyter Notebook\n",
    "\n",
    "There are two main types of cells in Jupyter notebook -- **Markdown** and **Code**. This is an example of a markdown cell. All this means, is that this cell does not run code. It is used for text, images, links, etc."
   ]
  },
  {
   "cell_type": "code",
   "execution_count": 1,
   "id": "10b0e19f",
   "metadata": {},
   "outputs": [
    {
     "data": {
      "text/plain": [
       "4"
      ]
     },
     "execution_count": 1,
     "metadata": {},
     "output_type": "execute_result"
    }
   ],
   "source": [
    "# This is an example of a code cell\n",
    "# In a code cell, we use \"#\" to start our comments, which will not be executed.\n",
    "# The following line, however, is python code\n",
    "2+2"
   ]
  },
  {
   "cell_type": "markdown",
   "id": "f2e105f4-0737-4397-b1ef-dce634aaec8b",
   "metadata": {},
   "source": [
    "Some useful commands to make your text looks better: \n",
    "* **bold**\n",
    "* *italic*\n",
    "\n",
    "Similar to LaTex:\n",
    "* $\\sin(x)$\n",
    "* $\\int_0^1 e^x dx$"
   ]
  },
  {
   "cell_type": "markdown",
   "id": "539f92b6",
   "metadata": {},
   "source": [
    "## Python Data Types\n",
    "\n",
    "We will be working with many different Python data types, both built-in data types as well as data types defined in external libraries, like the library NumPy. It may seem that Python has an endless number of data types, but focus this week on really understanding the data types that are presented. In upcoming units, we may see less common data types that are presented once or twice, just as a way to show you that they exist."
   ]
  },
  {
   "cell_type": "markdown",
   "id": "1d015208",
   "metadata": {},
   "source": [
    "### lists and strings"
   ]
  },
  {
   "cell_type": "markdown",
   "id": "4c5da489",
   "metadata": {},
   "source": [
    "We start with two data types that seem very different but which share a lot of common functionalities.\n",
    "\n",
    "We can:\n",
    "* **Make a string using quotation marks (either single or double quotation marks).** \n",
    "* **Make a list by using square brackets.**\n",
    "\n",
    "Here we define the variable `s` to be the string `\"Hello, world\"`.\n",
    "\n",
    "You can check the type of an object by using the `type` function."
   ]
  },
  {
   "cell_type": "code",
   "execution_count": 2,
   "id": "965bef0f",
   "metadata": {},
   "outputs": [],
   "source": [
    "s = \"Hello, world\""
   ]
  },
  {
   "cell_type": "code",
   "execution_count": 3,
   "id": "a0e287a4",
   "metadata": {},
   "outputs": [
    {
     "data": {
      "text/plain": [
       "str"
      ]
     },
     "execution_count": 3,
     "metadata": {},
     "output_type": "execute_result"
    }
   ],
   "source": [
    "type(s) # Similar to the \"class()\" function in MATLAB"
   ]
  },
  {
   "cell_type": "code",
   "execution_count": 4,
   "id": "4cff350f",
   "metadata": {},
   "outputs": [
    {
     "name": "stdout",
     "output_type": "stream",
     "text": [
      "Hello, world\n"
     ]
    }
   ],
   "source": [
    "print(s)"
   ]
  },
  {
   "cell_type": "markdown",
   "id": "1becfd24",
   "metadata": {},
   "source": [
    "Just like we made a string by using quotation marks, here we make a list by using square brackets."
   ]
  },
  {
   "cell_type": "code",
   "execution_count": 5,
   "id": "e8395f02",
   "metadata": {},
   "outputs": [],
   "source": [
    "mylist = [3,1,4,1]"
   ]
  },
  {
   "cell_type": "code",
   "execution_count": 6,
   "id": "7e4be350",
   "metadata": {},
   "outputs": [
    {
     "ename": "SyntaxError",
     "evalue": "invalid syntax. Perhaps you forgot a comma? (1712655810.py, line 1)",
     "output_type": "error",
     "traceback": [
      "\u001b[0;36m  Cell \u001b[0;32mIn[6], line 1\u001b[0;36m\u001b[0m\n\u001b[0;31m    mylist2 = [3 1 4 1] # Unlike MATLAB, we have to use commas in Python!\u001b[0m\n\u001b[0m               ^\u001b[0m\n\u001b[0;31mSyntaxError\u001b[0m\u001b[0;31m:\u001b[0m invalid syntax. Perhaps you forgot a comma?\n"
     ]
    }
   ],
   "source": [
    "mylist2 = [3 1 4 1] # Unlike MATLAB, we have to use commas in Python!"
   ]
  },
  {
   "cell_type": "code",
   "execution_count": 7,
   "id": "0719213b",
   "metadata": {},
   "outputs": [
    {
     "data": {
      "text/plain": [
       "list"
      ]
     },
     "execution_count": 7,
     "metadata": {},
     "output_type": "execute_result"
    }
   ],
   "source": [
    "type(mylist)"
   ]
  },
  {
   "cell_type": "markdown",
   "id": "a38309b8",
   "metadata": {},
   "source": [
    "Here is one of the many similarities between strings and lists (as well as many other data types in Python): you can use the following indexing notation to extract a part of the object.  \n",
    "Notice that **numbering in Python starts at 0.** We can refer the first element as the \"zeroth\" element or the \"initial\" element. For example, the initial element in the string `Hello, world` is the letter `H`."
   ]
  },
  {
   "cell_type": "code",
   "execution_count": 8,
   "id": "e21feba8",
   "metadata": {},
   "outputs": [
    {
     "data": {
      "text/plain": [
       "'H'"
      ]
     },
     "execution_count": 8,
     "metadata": {},
     "output_type": "execute_result"
    }
   ],
   "source": [
    "s[0]"
   ]
  },
  {
   "cell_type": "code",
   "execution_count": 9,
   "id": "0d4738ad",
   "metadata": {},
   "outputs": [
    {
     "data": {
      "text/plain": [
       "3"
      ]
     },
     "execution_count": 9,
     "metadata": {},
     "output_type": "execute_result"
    }
   ],
   "source": [
    "mylist[0]"
   ]
  },
  {
   "cell_type": "markdown",
   "id": "4dc14106",
   "metadata": {},
   "source": [
    "Another similarity between strings and lists is that both have a notion of length."
   ]
  },
  {
   "cell_type": "code",
   "execution_count": 10,
   "id": "d47d641a",
   "metadata": {},
   "outputs": [
    {
     "data": {
      "text/plain": [
       "12"
      ]
     },
     "execution_count": 10,
     "metadata": {},
     "output_type": "execute_result"
    }
   ],
   "source": [
    "len(s)"
   ]
  },
  {
   "cell_type": "code",
   "execution_count": 11,
   "id": "1d7188e9",
   "metadata": {},
   "outputs": [
    {
     "data": {
      "text/plain": [
       "4"
      ]
     },
     "execution_count": 11,
     "metadata": {},
     "output_type": "execute_result"
    }
   ],
   "source": [
    "len(mylist)"
   ]
  },
  {
   "cell_type": "markdown",
   "id": "a54d6e89",
   "metadata": {},
   "source": [
    "Because indexing starts at 0 and the string `s` has length 12, using `s[12]` will raise an error."
   ]
  },
  {
   "cell_type": "code",
   "execution_count": 12,
   "id": "2fb891d8",
   "metadata": {},
   "outputs": [
    {
     "ename": "IndexError",
     "evalue": "string index out of range",
     "output_type": "error",
     "traceback": [
      "\u001b[0;31m---------------------------------------------------------------------------\u001b[0m",
      "\u001b[0;31mIndexError\u001b[0m                                Traceback (most recent call last)",
      "Cell \u001b[0;32mIn[12], line 1\u001b[0m\n\u001b[0;32m----> 1\u001b[0m s[\u001b[38;5;28mlen\u001b[39m(s)]\n",
      "\u001b[0;31mIndexError\u001b[0m: string index out of range"
     ]
    }
   ],
   "source": [
    "s[len(s)]"
   ]
  },
  {
   "cell_type": "markdown",
   "id": "f8add999",
   "metadata": {},
   "source": [
    "To get the last element in a string (or list) `s`, you can use `s[len(s)-1]`, but much more common is to use the negative indexing shorthand `s[-1]` (you can regard ``-`` as a direction)."
   ]
  },
  {
   "cell_type": "code",
   "execution_count": 13,
   "id": "71c76cd1",
   "metadata": {},
   "outputs": [
    {
     "data": {
      "text/plain": [
       "'d'"
      ]
     },
     "execution_count": 13,
     "metadata": {},
     "output_type": "execute_result"
    }
   ],
   "source": [
    "s[len(s)-1]"
   ]
  },
  {
   "cell_type": "code",
   "execution_count": 14,
   "id": "2ef2f4f7",
   "metadata": {},
   "outputs": [
    {
     "data": {
      "text/plain": [
       "'d'"
      ]
     },
     "execution_count": 14,
     "metadata": {},
     "output_type": "execute_result"
    }
   ],
   "source": [
    "s[-1]"
   ]
  },
  {
   "cell_type": "markdown",
   "id": "340de750",
   "metadata": {},
   "source": [
    "**slicing**:  similar to the colon command from MATLAB (``a:dx:b``), but with a few key syntax differences. We use slicing method in Python to get a sequence of elements.\n",
    "* **The right endpoint is not included**. For example: Calling `s[1:4]` will include `s[1]`, `s[2]`, `s[3]`, but it will not include `s[4]`.\n",
    "* **When slicing with specified step size, the step size goes at the end** (like ``a:b:dx``). For example: `s[1:7:2]` will include `s[1]`, `s[3]`, `s[5]`, but not `s[7]` because right endpoints are not included. "
   ]
  },
  {
   "cell_type": "code",
   "execution_count": 15,
   "id": "bdcf134b",
   "metadata": {},
   "outputs": [
    {
     "data": {
      "text/plain": [
       "'ell'"
      ]
     },
     "execution_count": 15,
     "metadata": {},
     "output_type": "execute_result"
    }
   ],
   "source": [
    "s[1:4]"
   ]
  },
  {
   "cell_type": "code",
   "execution_count": 16,
   "id": "ee34d793",
   "metadata": {},
   "outputs": [
    {
     "data": {
      "text/plain": [
       "'Hello, world'"
      ]
     },
     "execution_count": 16,
     "metadata": {},
     "output_type": "execute_result"
    }
   ],
   "source": [
    "s"
   ]
  },
  {
   "cell_type": "markdown",
   "id": "9b0a78fc-e74f-425c-bb6e-776a5d35b4a5",
   "metadata": {},
   "source": [
    "The string `s[:5]` is the same as `s[0:5]`.  One benefit of the \"right endpoint is not included\" convention is that `s[:5]` will be length 5."
   ]
  },
  {
   "cell_type": "code",
   "execution_count": 17,
   "id": "852e4f34",
   "metadata": {},
   "outputs": [
    {
     "data": {
      "text/plain": [
       "'Hello'"
      ]
     },
     "execution_count": 17,
     "metadata": {},
     "output_type": "execute_result"
    }
   ],
   "source": [
    "s[:5]"
   ]
  },
  {
   "cell_type": "code",
   "execution_count": 18,
   "id": "7833e6f4",
   "metadata": {},
   "outputs": [
    {
     "data": {
      "text/plain": [
       "'Hello'"
      ]
     },
     "execution_count": 18,
     "metadata": {},
     "output_type": "execute_result"
    }
   ],
   "source": [
    "s[0:5]"
   ]
  },
  {
   "cell_type": "markdown",
   "id": "559b7903",
   "metadata": {},
   "source": [
    "Similarly, the notation `s[3:]` will go from the element `s[3]` to the end."
   ]
  },
  {
   "cell_type": "code",
   "execution_count": 19,
   "id": "b1eed524",
   "metadata": {},
   "outputs": [
    {
     "data": {
      "text/plain": [
       "'lo, world'"
      ]
     },
     "execution_count": 19,
     "metadata": {},
     "output_type": "execute_result"
    }
   ],
   "source": [
    "s[3:]"
   ]
  },
  {
   "cell_type": "code",
   "execution_count": 20,
   "id": "90a87c4c",
   "metadata": {},
   "outputs": [
    {
     "data": {
      "text/plain": [
       "[1, 4, 1]"
      ]
     },
     "execution_count": 20,
     "metadata": {},
     "output_type": "execute_result"
    }
   ],
   "source": [
    "mylist[1:]"
   ]
  },
  {
   "cell_type": "code",
   "execution_count": 21,
   "id": "ca0f2960",
   "metadata": {},
   "outputs": [
    {
     "data": {
      "text/plain": [
       "[3, 1, 4, 1]"
      ]
     },
     "execution_count": 21,
     "metadata": {},
     "output_type": "execute_result"
    }
   ],
   "source": [
    "mylist"
   ]
  },
  {
   "cell_type": "markdown",
   "id": "61bffa86-5454-4202-98ac-6c16552cf041",
   "metadata": {},
   "source": [
    "Example: `s[1:7:2]` will include `s[1]`, `s[3]`, `s[5]`, but not `s[7]` because right endpoints are not included."
   ]
  },
  {
   "cell_type": "code",
   "execution_count": 22,
   "id": "985bd914",
   "metadata": {},
   "outputs": [
    {
     "data": {
      "text/plain": [
       "'el,'"
      ]
     },
     "execution_count": 22,
     "metadata": {},
     "output_type": "execute_result"
    }
   ],
   "source": [
    "s[1:7:2]"
   ]
  },
  {
   "cell_type": "markdown",
   "id": "c96c6fb7",
   "metadata": {},
   "source": [
    "The following gets all the even-indexed elements in `s`."
   ]
  },
  {
   "cell_type": "code",
   "execution_count": 23,
   "id": "cd552a05",
   "metadata": {},
   "outputs": [
    {
     "data": {
      "text/plain": [
       "'Hlo ol'"
      ]
     },
     "execution_count": 23,
     "metadata": {},
     "output_type": "execute_result"
    }
   ],
   "source": [
    "s[::2]"
   ]
  },
  {
   "cell_type": "markdown",
   "id": "6fcdcef4",
   "metadata": {},
   "source": [
    "Similarly, `s[1::2]` gets all the odd-indexed elements in `s` (we start at index 1 and go up in steps of 2)."
   ]
  },
  {
   "cell_type": "code",
   "execution_count": 24,
   "id": "88e4fa2c",
   "metadata": {},
   "outputs": [
    {
     "data": {
      "text/plain": [
       "'el,wrd'"
      ]
     },
     "execution_count": 24,
     "metadata": {},
     "output_type": "execute_result"
    }
   ],
   "source": [
    "s[1::2]"
   ]
  },
  {
   "cell_type": "markdown",
   "id": "7c2be719",
   "metadata": {},
   "source": [
    "### lists, tuples, and sets"
   ]
  },
  {
   "cell_type": "markdown",
   "id": "8dddf919",
   "metadata": {},
   "source": [
    "In the previous section, we considered two data types (lists and strings) which seem quite different.  Here we will look at three data types (lists, tuples, and sets) that on the surface seem very similar.  The difference between lists and tuples is more subtle, but sets are very different from these other two.\n",
    "\n",
    "As we already saw, you can construct a list using square brackets.  To construct a tuple, you can use round parentheses, and to construct a set you can use curly brackets."
   ]
  },
  {
   "cell_type": "code",
   "execution_count": 25,
   "id": "028d3ebd-e0ff-4eee-be03-2a4347219998",
   "metadata": {},
   "outputs": [],
   "source": [
    "mylist = [3,1,4,1]\n",
    "\n",
    "mytuple = (3,1,4,1)\n",
    "\n",
    "myset = {3,1,4,1}"
   ]
  },
  {
   "cell_type": "code",
   "execution_count": 26,
   "id": "977e8ff4",
   "metadata": {},
   "outputs": [
    {
     "data": {
      "text/plain": [
       "tuple"
      ]
     },
     "execution_count": 26,
     "metadata": {},
     "output_type": "execute_result"
    }
   ],
   "source": [
    "type(mytuple)"
   ]
  },
  {
   "cell_type": "code",
   "execution_count": 27,
   "id": "3d7f88ca",
   "metadata": {},
   "outputs": [
    {
     "data": {
      "text/plain": [
       "set"
      ]
     },
     "execution_count": 27,
     "metadata": {},
     "output_type": "execute_result"
    }
   ],
   "source": [
    "type(myset)"
   ]
  },
  {
   "cell_type": "markdown",
   "id": "9d578446",
   "metadata": {},
   "source": [
    "Here is a first difference with sets: like the mathematical notion of a set, sets in Python **do not allow repeated elements**.  Notice how there is only a single 1 shown in `myset`, even though we defined `myset` using `myset = {3,1,4,1}`."
   ]
  },
  {
   "cell_type": "code",
   "execution_count": 28,
   "id": "1637a27f",
   "metadata": {},
   "outputs": [
    {
     "data": {
      "text/plain": [
       "{1, 3, 4}"
      ]
     },
     "execution_count": 28,
     "metadata": {},
     "output_type": "execute_result"
    }
   ],
   "source": [
    "myset"
   ]
  },
  {
   "cell_type": "markdown",
   "id": "22fa372d",
   "metadata": {},
   "source": [
    "Here is a major difference between sets and the other two: sets do not support indexing.  This is because, like the mathematical notion of a set, **sets in Python do not have a notion of order**, so there is no \"zeroth\" element in a set."
   ]
  },
  {
   "cell_type": "code",
   "execution_count": 29,
   "id": "83107337",
   "metadata": {},
   "outputs": [
    {
     "ename": "TypeError",
     "evalue": "'set' object is not subscriptable",
     "output_type": "error",
     "traceback": [
      "\u001b[0;31m---------------------------------------------------------------------------\u001b[0m",
      "\u001b[0;31mTypeError\u001b[0m                                 Traceback (most recent call last)",
      "Cell \u001b[0;32mIn[29], line 1\u001b[0m\n\u001b[0;32m----> 1\u001b[0m myset[\u001b[38;5;241m0\u001b[39m]\n",
      "\u001b[0;31mTypeError\u001b[0m: 'set' object is not subscriptable"
     ]
    }
   ],
   "source": [
    "myset[0]"
   ]
  },
  {
   "cell_type": "code",
   "execution_count": 30,
   "id": "460de89e",
   "metadata": {},
   "outputs": [
    {
     "data": {
      "text/plain": [
       "3"
      ]
     },
     "execution_count": 30,
     "metadata": {},
     "output_type": "execute_result"
    }
   ],
   "source": [
    "mytuple[0]"
   ]
  },
  {
   "cell_type": "code",
   "execution_count": 31,
   "id": "868d5ead",
   "metadata": {},
   "outputs": [
    {
     "data": {
      "text/plain": [
       "3"
      ]
     },
     "execution_count": 31,
     "metadata": {},
     "output_type": "execute_result"
    }
   ],
   "source": [
    "mylist[0]"
   ]
  },
  {
   "cell_type": "markdown",
   "id": "6feb4463",
   "metadata": {},
   "source": [
    "Sets, tuples, and lists all have a notion of length."
   ]
  },
  {
   "cell_type": "code",
   "execution_count": 32,
   "id": "564d3559",
   "metadata": {},
   "outputs": [
    {
     "data": {
      "text/plain": [
       "4"
      ]
     },
     "execution_count": 32,
     "metadata": {},
     "output_type": "execute_result"
    }
   ],
   "source": [
    "len(mytuple)"
   ]
  },
  {
   "cell_type": "code",
   "execution_count": 33,
   "id": "e818d6d1",
   "metadata": {},
   "outputs": [
    {
     "data": {
      "text/plain": [
       "3"
      ]
     },
     "execution_count": 33,
     "metadata": {},
     "output_type": "execute_result"
    }
   ],
   "source": [
    "len(myset)"
   ]
  },
  {
   "cell_type": "code",
   "execution_count": 34,
   "id": "32add8aa",
   "metadata": {},
   "outputs": [
    {
     "data": {
      "text/plain": [
       "4"
      ]
     },
     "execution_count": 34,
     "metadata": {},
     "output_type": "execute_result"
    }
   ],
   "source": [
    "mylist[2]"
   ]
  },
  {
   "cell_type": "markdown",
   "id": "d7f19db6",
   "metadata": {},
   "source": [
    "Here is a first difference between lists and tuples: you can change elements in a list but not in a tuple. This is usually described as saying that tuples are **immutable**. \\\n",
    "Besides, tuples are **hashable** objects. A hashable object (like a tuple) has a fixed hash value, which encodes the features of its elements. This allows python to quickly index and organize it, at the cost of persisting its contents throughout its lifetime."
   ]
  },
  {
   "cell_type": "code",
   "execution_count": 35,
   "id": "39aca7f4",
   "metadata": {},
   "outputs": [],
   "source": [
    "mylist[2] = 17"
   ]
  },
  {
   "cell_type": "code",
   "execution_count": 36,
   "id": "cddeb16b",
   "metadata": {},
   "outputs": [
    {
     "data": {
      "text/plain": [
       "[3, 1, 17, 1]"
      ]
     },
     "execution_count": 36,
     "metadata": {},
     "output_type": "execute_result"
    }
   ],
   "source": [
    "mylist"
   ]
  },
  {
   "cell_type": "code",
   "execution_count": 37,
   "id": "e743adfe",
   "metadata": {},
   "outputs": [
    {
     "data": {
      "text/plain": [
       "4"
      ]
     },
     "execution_count": 37,
     "metadata": {},
     "output_type": "execute_result"
    }
   ],
   "source": [
    "mytuple[2]"
   ]
  },
  {
   "cell_type": "code",
   "execution_count": 38,
   "id": "b4afd34b",
   "metadata": {},
   "outputs": [
    {
     "ename": "TypeError",
     "evalue": "'tuple' object does not support item assignment",
     "output_type": "error",
     "traceback": [
      "\u001b[0;31m---------------------------------------------------------------------------\u001b[0m",
      "\u001b[0;31mTypeError\u001b[0m                                 Traceback (most recent call last)",
      "Cell \u001b[0;32mIn[38], line 1\u001b[0m\n\u001b[0;32m----> 1\u001b[0m mytuple[\u001b[38;5;241m2\u001b[39m] \u001b[38;5;241m=\u001b[39m \u001b[38;5;241m17\u001b[39m\n",
      "\u001b[0;31mTypeError\u001b[0m: 'tuple' object does not support item assignment"
     ]
    }
   ],
   "source": [
    "mytuple[2] = 17"
   ]
  },
  {
   "cell_type": "markdown",
   "id": "ca46f64c-b68e-4742-bfcd-8b1e37a6b662",
   "metadata": {},
   "source": [
    "You can access the hash value of a tuple (the value itself is so far meaningless to you)."
   ]
  },
  {
   "cell_type": "code",
   "execution_count": 39,
   "id": "adc6cd6b-dbff-4962-a021-c15b9c3c6c01",
   "metadata": {},
   "outputs": [
    {
     "data": {
      "text/plain": [
       "5667174679445670316"
      ]
     },
     "execution_count": 39,
     "metadata": {},
     "output_type": "execute_result"
    }
   ],
   "source": [
    "hash(mytuple)"
   ]
  },
  {
   "cell_type": "code",
   "execution_count": 40,
   "id": "4cabadbc-fb23-486b-8574-2079833c27de",
   "metadata": {},
   "outputs": [
    {
     "ename": "TypeError",
     "evalue": "unhashable type: 'list'",
     "output_type": "error",
     "traceback": [
      "\u001b[0;31m---------------------------------------------------------------------------\u001b[0m",
      "\u001b[0;31mTypeError\u001b[0m                                 Traceback (most recent call last)",
      "Cell \u001b[0;32mIn[40], line 1\u001b[0m\n\u001b[0;32m----> 1\u001b[0m \u001b[38;5;28mhash\u001b[39m(mylist)\n",
      "\u001b[0;31mTypeError\u001b[0m: unhashable type: 'list'"
     ]
    }
   ],
   "source": [
    "hash(mylist) # lists and sets are not hashable"
   ]
  },
  {
   "cell_type": "markdown",
   "id": "2f231ce7",
   "metadata": {},
   "source": [
    "Another consequence of lists being mutable and tuples being immutable is that lists have an `append` method and tuples do not.The English word \"append\" implies \"adding to the end\", which does not make sense to sets."
   ]
  },
  {
   "cell_type": "code",
   "execution_count": 41,
   "id": "c487b2f7",
   "metadata": {},
   "outputs": [],
   "source": [
    "mylist.append(8)"
   ]
  },
  {
   "cell_type": "code",
   "execution_count": 42,
   "id": "1ca5b62c",
   "metadata": {},
   "outputs": [
    {
     "data": {
      "text/plain": [
       "[3, 1, 17, 1, 8]"
      ]
     },
     "execution_count": 42,
     "metadata": {},
     "output_type": "execute_result"
    }
   ],
   "source": [
    "mylist"
   ]
  },
  {
   "cell_type": "code",
   "execution_count": 43,
   "id": "dd97022e",
   "metadata": {},
   "outputs": [
    {
     "ename": "AttributeError",
     "evalue": "'tuple' object has no attribute 'append'",
     "output_type": "error",
     "traceback": [
      "\u001b[0;31m---------------------------------------------------------------------------\u001b[0m",
      "\u001b[0;31mAttributeError\u001b[0m                            Traceback (most recent call last)",
      "Cell \u001b[0;32mIn[43], line 1\u001b[0m\n\u001b[0;32m----> 1\u001b[0m mytuple\u001b[38;5;241m.\u001b[39mappend(\u001b[38;5;241m8\u001b[39m)\n",
      "\u001b[0;31mAttributeError\u001b[0m: 'tuple' object has no attribute 'append'"
     ]
    }
   ],
   "source": [
    "mytuple.append(8) # cannot use \"append\" method to a tuple, as it is immutable"
   ]
  },
  {
   "cell_type": "code",
   "execution_count": 44,
   "id": "b96f5e46-6996-425d-8233-e1c06f2a8e76",
   "metadata": {},
   "outputs": [
    {
     "data": {
      "text/plain": [
       "{1, 3, 4, 8}"
      ]
     },
     "execution_count": 44,
     "metadata": {},
     "output_type": "execute_result"
    }
   ],
   "source": [
    "myset.add(8) # Alternatively, you may use \"add\" to add an element to a set\n",
    "myset"
   ]
  },
  {
   "cell_type": "markdown",
   "id": "3daf8a67",
   "metadata": {},
   "source": [
    "It might seem like lists are better than tuples in every way.  However, you can use tuples in certain situations where lists are not allowed. "
   ]
  },
  {
   "cell_type": "code",
   "execution_count": 45,
   "id": "337233d0",
   "metadata": {},
   "outputs": [],
   "source": [
    "newset = {3,1,(4,1)} # here (4,1) is a tuple, and is an element of this \"newset\"."
   ]
  },
  {
   "cell_type": "code",
   "execution_count": 46,
   "id": "12099374",
   "metadata": {},
   "outputs": [
    {
     "data": {
      "text/plain": [
       "set"
      ]
     },
     "execution_count": 46,
     "metadata": {},
     "output_type": "execute_result"
    }
   ],
   "source": [
    "type(newset)"
   ]
  },
  {
   "cell_type": "code",
   "execution_count": 47,
   "id": "9f0ef234",
   "metadata": {},
   "outputs": [
    {
     "data": {
      "text/plain": [
       "3"
      ]
     },
     "execution_count": 47,
     "metadata": {},
     "output_type": "execute_result"
    }
   ],
   "source": [
    "len(newset)"
   ]
  },
  {
   "cell_type": "code",
   "execution_count": 48,
   "id": "c0e800c6",
   "metadata": {},
   "outputs": [
    {
     "ename": "TypeError",
     "evalue": "unhashable type: 'list'",
     "output_type": "error",
     "traceback": [
      "\u001b[0;31m---------------------------------------------------------------------------\u001b[0m",
      "\u001b[0;31mTypeError\u001b[0m                                 Traceback (most recent call last)",
      "Cell \u001b[0;32mIn[48], line 1\u001b[0m\n\u001b[0;32m----> 1\u001b[0m newset2 \u001b[38;5;241m=\u001b[39m {\u001b[38;5;241m3\u001b[39m,\u001b[38;5;241m1\u001b[39m,[\u001b[38;5;241m4\u001b[39m,\u001b[38;5;241m1\u001b[39m]}\n",
      "\u001b[0;31mTypeError\u001b[0m: unhashable type: 'list'"
     ]
    }
   ],
   "source": [
    "newset2 = {3,1,[4,1]}"
   ]
  },
  {
   "cell_type": "markdown",
   "id": "513142f0-174e-49f3-9c4c-c2777739d94c",
   "metadata": {},
   "source": [
    "Set elements must be **hashable**. A tuple is hashable, as long as its elements are all hashable."
   ]
  },
  {
   "cell_type": "markdown",
   "id": "ea1b913b",
   "metadata": {},
   "source": [
    "### ranges and for loops"
   ]
  },
  {
   "cell_type": "markdown",
   "id": "1b3ac3a9",
   "metadata": {},
   "source": [
    "Our next data type is commonly used with for-loops, and should remind you of the colon command (``a:dx:b``) from MATLAB."
   ]
  },
  {
   "cell_type": "code",
   "execution_count": 49,
   "id": "fd3fb9f8",
   "metadata": {},
   "outputs": [],
   "source": [
    "mystring = \"Hello, world\"\n",
    "mylist = [3,1,4,1]\n",
    "mytuple = (3,1,4,1)\n",
    "myset = {3,1,4,1}"
   ]
  },
  {
   "cell_type": "markdown",
   "id": "0ad44e66",
   "metadata": {},
   "source": [
    "Here is the basic syntax for **for-loops** in Python. Key things to notice:\n",
    "\n",
    "* The ``:`` at the end of the first line\n",
    "* The indentation to enter the for-loop\n"
   ]
  },
  {
   "cell_type": "code",
   "execution_count": 50,
   "id": "b3b07f7b",
   "metadata": {},
   "outputs": [
    {
     "name": "stdout",
     "output_type": "stream",
     "text": [
      "3\n",
      "1\n",
      "4\n",
      "1\n"
     ]
    }
   ],
   "source": [
    "for x in mylist:\n",
    "    print(x)"
   ]
  },
  {
   "cell_type": "code",
   "execution_count": 51,
   "id": "dd95bf79",
   "metadata": {},
   "outputs": [
    {
     "name": "stdout",
     "output_type": "stream",
     "text": [
      "H\n",
      "e\n",
      "l\n",
      "l\n",
      "o\n",
      ",\n",
      " \n",
      "w\n",
      "o\n",
      "r\n",
      "l\n",
      "d\n"
     ]
    }
   ],
   "source": [
    "for x in mystring:\n",
    "    print(x)"
   ]
  },
  {
   "cell_type": "markdown",
   "id": "cc74cbc4-8cec-4750-a893-2715875988a5",
   "metadata": {},
   "source": [
    "The indentation is critical to Python programming! \\\n",
    "Unlike MATLAB that uses `{}` to control the code blocks, Python requires correct indentation to define the structure of your code:"
   ]
  },
  {
   "cell_type": "code",
   "execution_count": 52,
   "id": "b3791952-f860-4be7-982f-a4af31a4e230",
   "metadata": {},
   "outputs": [
    {
     "ename": "IndentationError",
     "evalue": "expected an indented block after 'for' statement on line 1 (3994173541.py, line 2)",
     "output_type": "error",
     "traceback": [
      "\u001b[0;36m  Cell \u001b[0;32mIn[52], line 2\u001b[0;36m\u001b[0m\n\u001b[0;31m    print(x)\u001b[0m\n\u001b[0m    ^\u001b[0m\n\u001b[0;31mIndentationError\u001b[0m\u001b[0;31m:\u001b[0m expected an indented block after 'for' statement on line 1\n"
     ]
    }
   ],
   "source": [
    "for x in mylist:\n",
    "print(x)"
   ]
  },
  {
   "cell_type": "markdown",
   "id": "6fc73fca",
   "metadata": {},
   "source": [
    "In the following example, Python repeats each of these three `print` statements each iteration looping through the for loop. (**White space matters!**)"
   ]
  },
  {
   "cell_type": "code",
   "execution_count": 53,
   "id": "621e873c",
   "metadata": {},
   "outputs": [
    {
     "name": "stdout",
     "output_type": "stream",
     "text": [
      "H\n",
      "<class 'str'>\n",
      "1\n",
      "e\n",
      "<class 'str'>\n",
      "1\n",
      "l\n",
      "<class 'str'>\n",
      "1\n",
      "l\n",
      "<class 'str'>\n",
      "1\n",
      "o\n",
      "<class 'str'>\n",
      "1\n",
      ",\n",
      "<class 'str'>\n",
      "1\n",
      " \n",
      "<class 'str'>\n",
      "1\n",
      "w\n",
      "<class 'str'>\n",
      "1\n",
      "o\n",
      "<class 'str'>\n",
      "1\n",
      "r\n",
      "<class 'str'>\n",
      "1\n",
      "l\n",
      "<class 'str'>\n",
      "1\n",
      "d\n",
      "<class 'str'>\n",
      "1\n"
     ]
    }
   ],
   "source": [
    "for x in mystring:\n",
    "    print(x)\n",
    "    print(type(x))\n",
    "    print(len(x))"
   ]
  },
  {
   "cell_type": "markdown",
   "id": "294d374c",
   "metadata": {},
   "source": [
    "On the other hand, in the following, only the `print(x)` command is indented, so only that command is repeated by the for loop.  The other two `print` commands are executed after the for loop has completed."
   ]
  },
  {
   "cell_type": "code",
   "execution_count": 54,
   "id": "84c653f5",
   "metadata": {},
   "outputs": [
    {
     "name": "stdout",
     "output_type": "stream",
     "text": [
      "H\n",
      "e\n",
      "l\n",
      "l\n",
      "o\n",
      ",\n",
      " \n",
      "w\n",
      "o\n",
      "r\n",
      "l\n",
      "d\n",
      "<class 'str'>\n",
      "1\n"
     ]
    }
   ],
   "source": [
    "for x in mystring:\n",
    "    print(x) # only this line is in the loop!\n",
    "print(type(x))\n",
    "print(len(x))"
   ]
  },
  {
   "cell_type": "code",
   "execution_count": 55,
   "id": "ba3c1350",
   "metadata": {},
   "outputs": [
    {
     "name": "stdout",
     "output_type": "stream",
     "text": [
      "3\n",
      "1\n",
      "4\n",
      "1\n"
     ]
    }
   ],
   "source": [
    "for x in mytuple:\n",
    "    print(x)"
   ]
  },
  {
   "cell_type": "code",
   "execution_count": 56,
   "id": "3624bff7",
   "metadata": {},
   "outputs": [
    {
     "name": "stdout",
     "output_type": "stream",
     "text": [
      "1\n",
      "3\n",
      "4\n"
     ]
    }
   ],
   "source": [
    "for x in myset:\n",
    "    print(x)"
   ]
  },
  {
   "cell_type": "code",
   "execution_count": 57,
   "id": "b87ef40c",
   "metadata": {},
   "outputs": [
    {
     "data": {
      "text/plain": [
       "{1, 3, 4}"
      ]
     },
     "execution_count": 57,
     "metadata": {},
     "output_type": "execute_result"
    }
   ],
   "source": [
    "myset # recall that there is no order in a set"
   ]
  },
  {
   "cell_type": "markdown",
   "id": "177ee21b-1e26-4920-8149-29b41ed732d7",
   "metadata": {},
   "source": [
    "#### Remark: Indexing of a list\n",
    "Sometimes, you may want to extract an arbitarary subset of a list/string. For example, you want to grab the 1st, 4th and 3rd elements of `mylist` (in order). So you intuitively write (as in MATLAB):"
   ]
  },
  {
   "cell_type": "code",
   "execution_count": 58,
   "id": "14e3e73b-b672-40b9-99cf-7e9d6424c371",
   "metadata": {},
   "outputs": [
    {
     "ename": "TypeError",
     "evalue": "list indices must be integers or slices, not tuple",
     "output_type": "error",
     "traceback": [
      "\u001b[0;31m---------------------------------------------------------------------------\u001b[0m",
      "\u001b[0;31mTypeError\u001b[0m                                 Traceback (most recent call last)",
      "Cell \u001b[0;32mIn[58], line 1\u001b[0m\n\u001b[0;32m----> 1\u001b[0m mylist[(\u001b[38;5;241m0\u001b[39m,\u001b[38;5;241m3\u001b[39m,\u001b[38;5;241m2\u001b[39m)]\n",
      "\u001b[0;31mTypeError\u001b[0m: list indices must be integers or slices, not tuple"
     ]
    }
   ],
   "source": [
    "mylist[(0,3,2)]"
   ]
  },
  {
   "cell_type": "markdown",
   "id": "8f413d77-98ff-4756-b9c2-a4c11f86bc45",
   "metadata": {},
   "source": [
    "You **CANNOT** directly use a list/tuple as the indices to subset a list/string !!\n",
    "\n",
    "The alternative ways of such slicing is by using the **for** loop (introduced below) or use other libraries like **Numpy**."
   ]
  },
  {
   "cell_type": "code",
   "execution_count": 59,
   "id": "bb4cdd6f-1ecd-4755-a7f8-2ac735ba3285",
   "metadata": {},
   "outputs": [
    {
     "data": {
      "text/plain": [
       "[3, 1, 4]"
      ]
     },
     "execution_count": 59,
     "metadata": {},
     "output_type": "execute_result"
    }
   ],
   "source": [
    "[mylist[i] for i in [0,3,2]] # You may iterate over either a list or a tuple"
   ]
  },
  {
   "cell_type": "code",
   "execution_count": 60,
   "id": "3e94ba27-f810-4898-8d5b-800daa849ea8",
   "metadata": {},
   "outputs": [
    {
     "data": {
      "text/plain": [
       "[3, 1, 4]"
      ]
     },
     "execution_count": 60,
     "metadata": {},
     "output_type": "execute_result"
    }
   ],
   "source": [
    "[mylist[i] for i in (0,3,2)]"
   ]
  },
  {
   "cell_type": "markdown",
   "id": "751b63c2-ff7e-4b8e-900c-e6c3d50f3c7a",
   "metadata": {},
   "source": [
    "If you loop over a **set**, the order will be determined by the set's internal hash table. The output will NOT be guaranteed."
   ]
  },
  {
   "cell_type": "code",
   "execution_count": 61,
   "id": "f54e5e20-d122-493c-9c5b-e8546b04005b",
   "metadata": {},
   "outputs": [
    {
     "data": {
      "text/plain": [
       "[3, 4, 1]"
      ]
     },
     "execution_count": 61,
     "metadata": {},
     "output_type": "execute_result"
    }
   ],
   "source": [
    "[mylist[i] for i in {0,3,2}] "
   ]
  },
  {
   "cell_type": "markdown",
   "id": "2104afe6",
   "metadata": {},
   "source": [
    "A **range** object in Python is a built-in iterable that represents a sequence of numbers\n",
    "\n",
    "Here is our first example of a range object.  In this case, it is used as a quick way to repeat the print statement 5 times."
   ]
  },
  {
   "cell_type": "code",
   "execution_count": 62,
   "id": "db111810",
   "metadata": {},
   "outputs": [
    {
     "data": {
      "text/plain": [
       "range(0, 5)"
      ]
     },
     "execution_count": 62,
     "metadata": {},
     "output_type": "execute_result"
    }
   ],
   "source": [
    "range(5)"
   ]
  },
  {
   "cell_type": "code",
   "execution_count": 63,
   "id": "d87b6c7e",
   "metadata": {},
   "outputs": [
    {
     "name": "stdout",
     "output_type": "stream",
     "text": [
      "Hello, world\n",
      "Hello, world\n",
      "Hello, world\n",
      "Hello, world\n",
      "Hello, world\n"
     ]
    }
   ],
   "source": [
    "for i in range(5):\n",
    "    print(\"Hello, world\")"
   ]
  },
  {
   "cell_type": "markdown",
   "id": "a030cc7c",
   "metadata": {},
   "source": [
    "The syntax in ``range`` is very similar to the slicing syntax from above: in particular, \n",
    "* **The step size comes at the end.**\n",
    "* **The right endpoint is usually not included.**"
   ]
  },
  {
   "cell_type": "code",
   "execution_count": 64,
   "id": "dfd831a9",
   "metadata": {},
   "outputs": [
    {
     "name": "stdout",
     "output_type": "stream",
     "text": [
      "2\n",
      "5\n",
      "8\n"
     ]
    }
   ],
   "source": [
    "for i in range(2,10,3):\n",
    "    print(i)"
   ]
  },
  {
   "cell_type": "markdown",
   "id": "63845522",
   "metadata": {},
   "source": [
    "==================================================\n",
    "\n",
    "_**<font color = blue>In-class Exercise 1</font>**_: Modify the above for-loop, output from 10 to 3."
   ]
  },
  {
   "cell_type": "code",
   "execution_count": 65,
   "id": "f27c7c0a",
   "metadata": {},
   "outputs": [],
   "source": [
    "# write your code below\n"
   ]
  },
  {
   "cell_type": "markdown",
   "id": "6f544086",
   "metadata": {},
   "source": [
    "=================================================="
   ]
  },
  {
   "cell_type": "markdown",
   "id": "ecbabecb",
   "metadata": {},
   "source": [
    "The expression `range(10,3,-1)` above is its own type of object, a `range` object."
   ]
  },
  {
   "cell_type": "code",
   "execution_count": 66,
   "id": "294020b9",
   "metadata": {},
   "outputs": [],
   "source": [
    "myrange = range(10,3,-1)"
   ]
  },
  {
   "cell_type": "code",
   "execution_count": 67,
   "id": "9691673c",
   "metadata": {},
   "outputs": [
    {
     "data": {
      "text/plain": [
       "range"
      ]
     },
     "execution_count": 67,
     "metadata": {},
     "output_type": "execute_result"
    }
   ],
   "source": [
    "type(myrange)"
   ]
  },
  {
   "cell_type": "code",
   "execution_count": 68,
   "id": "d0997323",
   "metadata": {},
   "outputs": [
    {
     "data": {
      "text/plain": [
       "range(10, 3, -1)"
      ]
     },
     "execution_count": 68,
     "metadata": {},
     "output_type": "execute_result"
    }
   ],
   "source": [
    "myrange"
   ]
  },
  {
   "cell_type": "code",
   "execution_count": 69,
   "id": "3f99536a",
   "metadata": {},
   "outputs": [],
   "source": [
    "myrange2 = range(3,1000)"
   ]
  },
  {
   "cell_type": "code",
   "execution_count": 70,
   "id": "44d38534",
   "metadata": {},
   "outputs": [
    {
     "data": {
      "text/plain": [
       "3"
      ]
     },
     "execution_count": 70,
     "metadata": {},
     "output_type": "execute_result"
    }
   ],
   "source": [
    "myrange2[0] # the first element"
   ]
  },
  {
   "cell_type": "code",
   "execution_count": 71,
   "id": "c7fe7061",
   "metadata": {},
   "outputs": [
    {
     "data": {
      "text/plain": [
       "999"
      ]
     },
     "execution_count": 71,
     "metadata": {},
     "output_type": "execute_result"
    }
   ],
   "source": [
    "myrange2[-1] # the last element, cannot go beyond the ending point"
   ]
  },
  {
   "cell_type": "markdown",
   "id": "05b31328",
   "metadata": {},
   "source": [
    "Range objects support slicing.  That's not too important; maybe the most interesting thing about slicing in the context of range objects is that it again produces a range object."
   ]
  },
  {
   "cell_type": "code",
   "execution_count": 72,
   "id": "451be6f9",
   "metadata": {},
   "outputs": [
    {
     "data": {
      "text/plain": [
       "range(13, 103, 4)"
      ]
     },
     "execution_count": 72,
     "metadata": {},
     "output_type": "execute_result"
    }
   ],
   "source": [
    "# recall that: myrange2 = range(3,1000), and [10:100:4] has the starting point 10, ending point (not included) 100, step size 4\n",
    "# so we have: myrange2[10]=13, myrange2[100]=103 \n",
    "myrange2[10:100:4]"
   ]
  },
  {
   "cell_type": "markdown",
   "id": "a8678bcd",
   "metadata": {},
   "source": [
    "You can also compute the length of a range object, the same way as you can compute the length of a string, list, tuple, or set."
   ]
  },
  {
   "cell_type": "code",
   "execution_count": 73,
   "id": "bce6619b",
   "metadata": {},
   "outputs": [
    {
     "data": {
      "text/plain": [
       "997"
      ]
     },
     "execution_count": 73,
     "metadata": {},
     "output_type": "execute_result"
    }
   ],
   "source": [
    "# There are total of 998 elements from 3 to 1000. Since the right endpoint is not included, we have 997 elements.\n",
    "len(myrange2)"
   ]
  },
  {
   "cell_type": "markdown",
   "id": "7a48c28b",
   "metadata": {},
   "source": [
    "### ints, floats, and bools"
   ]
  },
  {
   "cell_type": "markdown",
   "id": "d1c6adff",
   "metadata": {},
   "source": [
    "==================================================\n",
    "\n",
    "_**<font color = blue>In-class Exercise 2</font>**_: Execute the following commands."
   ]
  },
  {
   "cell_type": "code",
   "execution_count": 74,
   "id": "091a1604",
   "metadata": {},
   "outputs": [
    {
     "data": {
      "text/plain": [
       "True"
      ]
     },
     "execution_count": 74,
     "metadata": {},
     "output_type": "execute_result"
    }
   ],
   "source": [
    "# 1. What do these two lines mean?\n",
    "z = 10/2\n",
    "z == 5"
   ]
  },
  {
   "cell_type": "code",
   "execution_count": 75,
   "id": "0808f544",
   "metadata": {},
   "outputs": [
    {
     "ename": "NameError",
     "evalue": "name 'true' is not defined",
     "output_type": "error",
     "traceback": [
      "\u001b[0;31m---------------------------------------------------------------------------\u001b[0m",
      "\u001b[0;31mNameError\u001b[0m                                 Traceback (most recent call last)",
      "Cell \u001b[0;32mIn[75], line 3\u001b[0m\n\u001b[1;32m      1\u001b[0m \u001b[38;5;66;03m# 2. Compare the outputs.\u001b[39;00m\n\u001b[1;32m      2\u001b[0m \u001b[38;5;28;01mTrue\u001b[39;00m\n\u001b[0;32m----> 3\u001b[0m true\n",
      "\u001b[0;31mNameError\u001b[0m: name 'true' is not defined"
     ]
    }
   ],
   "source": [
    "# 2. Compare the outputs.\n",
    "True\n",
    "true"
   ]
  },
  {
   "cell_type": "code",
   "execution_count": 76,
   "id": "5ec22c64",
   "metadata": {},
   "outputs": [
    {
     "data": {
      "text/plain": [
       "bool"
      ]
     },
     "execution_count": 76,
     "metadata": {},
     "output_type": "execute_result"
    }
   ],
   "source": [
    "# 3. Check the data type\n",
    "False\n",
    "type(False)"
   ]
  },
  {
   "cell_type": "markdown",
   "id": "0d2189ce",
   "metadata": {},
   "source": [
    "=================================================="
   ]
  },
  {
   "cell_type": "markdown",
   "id": "978a4d45",
   "metadata": {},
   "source": [
    "``bool`` -- Boolean values, which can be either **True** or **False**. Booleans are often used in programming for decision-making and conditional statements.\n",
    "\n",
    "Since `z == 5` is `True`, can we use `range(z)` instead of `range(5)`? "
   ]
  },
  {
   "cell_type": "code",
   "execution_count": 77,
   "id": "1b374263",
   "metadata": {},
   "outputs": [
    {
     "ename": "TypeError",
     "evalue": "'float' object cannot be interpreted as an integer",
     "output_type": "error",
     "traceback": [
      "\u001b[0;31m---------------------------------------------------------------------------\u001b[0m",
      "\u001b[0;31mTypeError\u001b[0m                                 Traceback (most recent call last)",
      "Cell \u001b[0;32mIn[77], line 1\u001b[0m\n\u001b[0;32m----> 1\u001b[0m \u001b[38;5;28mrange\u001b[39m(z)\n",
      "\u001b[0;31mTypeError\u001b[0m: 'float' object cannot be interpreted as an integer"
     ]
    }
   ],
   "source": [
    "range(z)"
   ]
  },
  {
   "cell_type": "markdown",
   "id": "f0ad36ab",
   "metadata": {},
   "source": [
    "The problem is: `z` was defined as `10/2`, Python set its data type as a **floating point number** (like a decimal, not an integer), and range objects can only be created using **integers.**"
   ]
  },
  {
   "cell_type": "code",
   "execution_count": 78,
   "id": "c537cf7e",
   "metadata": {},
   "outputs": [
    {
     "data": {
      "text/plain": [
       "int"
      ]
     },
     "execution_count": 78,
     "metadata": {},
     "output_type": "execute_result"
    }
   ],
   "source": [
    "type(5)"
   ]
  },
  {
   "cell_type": "code",
   "execution_count": 79,
   "id": "c827dee6",
   "metadata": {},
   "outputs": [
    {
     "data": {
      "text/plain": [
       "float"
      ]
     },
     "execution_count": 79,
     "metadata": {},
     "output_type": "execute_result"
    }
   ],
   "source": [
    "type(z)"
   ]
  },
  {
   "cell_type": "markdown",
   "id": "ce0a03da",
   "metadata": {},
   "source": [
    "Because computers can only specify decimals (floats, real numbers) to a finite degree of precision, some subtleties are inevitable.  One consequence is that it is **almost never correct to ask if two floating points are equal.**  Here is an example where two floats are obviously mathematically equal, but Python reports them as being unequal."
   ]
  },
  {
   "cell_type": "code",
   "execution_count": 80,
   "id": "21370554",
   "metadata": {},
   "outputs": [
    {
     "data": {
      "text/plain": [
       "False"
      ]
     },
     "execution_count": 80,
     "metadata": {},
     "output_type": "execute_result"
    }
   ],
   "source": [
    "(0.1 + 0.1 + 0.1) == 0.3"
   ]
  },
  {
   "cell_type": "markdown",
   "id": "1db59d68-6fa1-4a95-bda8-0f03ceaea6c4",
   "metadata": {},
   "source": [
    "This is not unique to Python:\n",
    "* If you test it in *MATLAB*, the result will also be **false**; \n",
    "* If you test it in *Mathetica*, the result will be **true**, as Mathetica can treat them as rationals."
   ]
  },
  {
   "cell_type": "markdown",
   "id": "c970576e-b001-42e4-b750-02cbcf6bb740",
   "metadata": {},
   "source": [
    "When you want to express `≠` in python, you need to use `!=` (in MATLAB, we use `~=` instead)"
   ]
  },
  {
   "cell_type": "code",
   "execution_count": 81,
   "id": "c8e2fb6c-81af-4e45-b471-510cf5f8e532",
   "metadata": {},
   "outputs": [
    {
     "data": {
      "text/plain": [
       "False"
      ]
     },
     "execution_count": 81,
     "metadata": {},
     "output_type": "execute_result"
    }
   ],
   "source": [
    "1 + 1 != 2"
   ]
  },
  {
   "cell_type": "markdown",
   "id": "7f528683",
   "metadata": {},
   "source": [
    "### dictionaries"
   ]
  },
  {
   "cell_type": "markdown",
   "id": "62a4a9ae",
   "metadata": {},
   "source": [
    "Dictionary is one of the most common data types, which provides a powerful tool to assiociate keys and values. They start off looking pretty similar to sets, but are an entirely diferent data type. Here are some key characters:\n",
    "* **Store a collection of key-value pairs.**\n",
    "* **Unordered.**\n",
    "* **Mutable.**\n",
    "* **Each key in a dictionary must be unique, and it is used to access its corresponding value.**\n",
    "* **Dictionaries are defined using curly braces {}, and key-value pairs are separated by colons.**"
   ]
  },
  {
   "cell_type": "code",
   "execution_count": 82,
   "id": "c749316a",
   "metadata": {},
   "outputs": [
    {
     "name": "stdout",
     "output_type": "stream",
     "text": [
      "value1\n",
      "value2\n"
     ]
    }
   ],
   "source": [
    "# This example is provided by GPT-3.5\n",
    "# Creating a dictionary\n",
    "my_dict = {\n",
    "    \"key1\": \"value1\",\n",
    "    \"key2\": \"value2\",\n",
    "    \"key3\": \"value3\"\n",
    "}\n",
    "\n",
    "# Accessing values using keys\n",
    "print(my_dict[\"key1\"])  # Output: \"value1\"\n",
    "print(my_dict[\"key2\"])  # Output: \"value2\"\n"
   ]
  },
  {
   "cell_type": "code",
   "execution_count": 83,
   "id": "ef1399df",
   "metadata": {},
   "outputs": [],
   "source": [
    "d = {\"A\": 90, \"B\": 80, \"C\": 70, \"D\": 60, \"F\": 0}"
   ]
  },
  {
   "cell_type": "code",
   "execution_count": 84,
   "id": "f7c69692",
   "metadata": {},
   "outputs": [
    {
     "data": {
      "text/plain": [
       "dict"
      ]
     },
     "execution_count": 84,
     "metadata": {},
     "output_type": "execute_result"
    }
   ],
   "source": [
    "type(d)"
   ]
  },
  {
   "cell_type": "markdown",
   "id": "6d92e524",
   "metadata": {},
   "source": [
    "==================================================\n",
    "\n",
    "_**<font color = blue>In-class Exercise 3</font>**_: Execute the following commands."
   ]
  },
  {
   "cell_type": "code",
   "execution_count": 85,
   "id": "9bf9bdb2",
   "metadata": {},
   "outputs": [
    {
     "data": {
      "text/plain": [
       "70"
      ]
     },
     "execution_count": 85,
     "metadata": {},
     "output_type": "execute_result"
    }
   ],
   "source": [
    "d[\"C\"]"
   ]
  },
  {
   "cell_type": "code",
   "execution_count": 86,
   "id": "99cdd31d",
   "metadata": {},
   "outputs": [
    {
     "ename": "KeyError",
     "evalue": "20",
     "output_type": "error",
     "traceback": [
      "\u001b[0;31m---------------------------------------------------------------------------\u001b[0m",
      "\u001b[0;31mKeyError\u001b[0m                                  Traceback (most recent call last)",
      "Cell \u001b[0;32mIn[86], line 1\u001b[0m\n\u001b[0;32m----> 1\u001b[0m d[\u001b[38;5;241m20\u001b[39m]\n",
      "\u001b[0;31mKeyError\u001b[0m: 20"
     ]
    }
   ],
   "source": [
    "d[20]"
   ]
  },
  {
   "cell_type": "code",
   "execution_count": 87,
   "id": "dea6ce59",
   "metadata": {},
   "outputs": [
    {
     "ename": "KeyError",
     "evalue": "0",
     "output_type": "error",
     "traceback": [
      "\u001b[0;31m---------------------------------------------------------------------------\u001b[0m",
      "\u001b[0;31mKeyError\u001b[0m                                  Traceback (most recent call last)",
      "Cell \u001b[0;32mIn[87], line 1\u001b[0m\n\u001b[0;32m----> 1\u001b[0m d[\u001b[38;5;241m0\u001b[39m]\n",
      "\u001b[0;31mKeyError\u001b[0m: 0"
     ]
    }
   ],
   "source": [
    "d[0]"
   ]
  },
  {
   "cell_type": "markdown",
   "id": "b1117da1",
   "metadata": {},
   "source": [
    "=================================================="
   ]
  },
  {
   "cell_type": "markdown",
   "id": "28689eed",
   "metadata": {},
   "source": [
    "You should use the \"key\" to access its \"value\"."
   ]
  },
  {
   "cell_type": "markdown",
   "id": "bf26811d",
   "metadata": {},
   "source": [
    "Here is an example of adding a new key to the dictionary.  Notice how it gets displayed without quotation marks, because `0` is not the same as `\"0\"` (the first one is an integer, while the second one is a string)."
   ]
  },
  {
   "cell_type": "code",
   "execution_count": 88,
   "id": "c34c7132",
   "metadata": {},
   "outputs": [],
   "source": [
    "d[0] = [3,1,4,1]"
   ]
  },
  {
   "cell_type": "code",
   "execution_count": 89,
   "id": "797ac043",
   "metadata": {},
   "outputs": [
    {
     "data": {
      "text/plain": [
       "{'A': 90, 'B': 80, 'C': 70, 'D': 60, 'F': 0, 0: [3, 1, 4, 1]}"
      ]
     },
     "execution_count": 89,
     "metadata": {},
     "output_type": "execute_result"
    }
   ],
   "source": [
    "d"
   ]
  },
  {
   "cell_type": "markdown",
   "id": "d1047772",
   "metadata": {},
   "source": [
    "We can also change a value associated to a key using the same kind of syntax.  Notice how the old value gets deleted; there cannot be repeated keys in a dictionary."
   ]
  },
  {
   "cell_type": "code",
   "execution_count": 90,
   "id": "ef2a5e97",
   "metadata": {},
   "outputs": [],
   "source": [
    "d[\"B\"] = 85"
   ]
  },
  {
   "cell_type": "code",
   "execution_count": 91,
   "id": "b374c013",
   "metadata": {},
   "outputs": [
    {
     "data": {
      "text/plain": [
       "{'A': 90, 'B': 85, 'C': 70, 'D': 60, 'F': 0, 0: [3, 1, 4, 1]}"
      ]
     },
     "execution_count": 91,
     "metadata": {},
     "output_type": "execute_result"
    }
   ],
   "source": [
    "d"
   ]
  },
  {
   "cell_type": "markdown",
   "id": "b1509b8a",
   "metadata": {},
   "source": [
    "I probably should have done this earlier, but here is how you access the value associated for example to the key `\"C\"`."
   ]
  },
  {
   "cell_type": "markdown",
   "id": "2d3a5176",
   "metadata": {},
   "source": [
    "Here we add a new key, and the value is itself a dictionary.  The two things to notice in this next example are that both `0` and `\"0\"` show up as keys, and that a dictionary can be a value in a dictionary."
   ]
  },
  {
   "cell_type": "code",
   "execution_count": 92,
   "id": "10ec9816",
   "metadata": {},
   "outputs": [],
   "source": [
    "d[\"0\"] = {\"hello\": \"first word\", \"world\": \"second word\"}"
   ]
  },
  {
   "cell_type": "code",
   "execution_count": 93,
   "id": "cf7b4961",
   "metadata": {},
   "outputs": [
    {
     "data": {
      "text/plain": [
       "{'A': 90,\n",
       " 'B': 85,\n",
       " 'C': 70,\n",
       " 'D': 60,\n",
       " 'F': 0,\n",
       " 0: [3, 1, 4, 1],\n",
       " '0': {'hello': 'first word', 'world': 'second word'}}"
      ]
     },
     "execution_count": 93,
     "metadata": {},
     "output_type": "execute_result"
    }
   ],
   "source": [
    "d"
   ]
  },
  {
   "cell_type": "markdown",
   "id": "fe0e7cf1",
   "metadata": {},
   "source": [
    "Remember that **lists were not allowed to go in sets, but tuples were allowed.**  It is the same with keys in dictionaries. Values in dictionaries can be anything, but the keys need to be **hashable**."
   ]
  },
  {
   "cell_type": "code",
   "execution_count": 94,
   "id": "40c68f71",
   "metadata": {},
   "outputs": [
    {
     "ename": "TypeError",
     "evalue": "unhashable type: 'list'",
     "output_type": "error",
     "traceback": [
      "\u001b[0;31m---------------------------------------------------------------------------\u001b[0m",
      "\u001b[0;31mTypeError\u001b[0m                                 Traceback (most recent call last)",
      "Cell \u001b[0;32mIn[94], line 1\u001b[0m\n\u001b[0;32m----> 1\u001b[0m d[[\u001b[38;5;241m4\u001b[39m,\u001b[38;5;241m1\u001b[39m]] \u001b[38;5;241m=\u001b[39m \u001b[38;5;241m1\u001b[39m\n",
      "\u001b[0;31mTypeError\u001b[0m: unhashable type: 'list'"
     ]
    }
   ],
   "source": [
    "d[[4,1]] = 1"
   ]
  },
  {
   "cell_type": "markdown",
   "id": "99669b96",
   "metadata": {},
   "source": [
    "But making the tuple `(4,1)` a key in our dictionary works fine."
   ]
  },
  {
   "cell_type": "code",
   "execution_count": 95,
   "id": "31bc1cbc",
   "metadata": {},
   "outputs": [],
   "source": [
    "d[(4,1)] = 1"
   ]
  },
  {
   "cell_type": "code",
   "execution_count": 96,
   "id": "a29bb6e5",
   "metadata": {},
   "outputs": [
    {
     "data": {
      "text/plain": [
       "{'A': 90,\n",
       " 'B': 85,\n",
       " 'C': 70,\n",
       " 'D': 60,\n",
       " 'F': 0,\n",
       " 0: [3, 1, 4, 1],\n",
       " '0': {'hello': 'first word', 'world': 'second word'},\n",
       " (4, 1): 1}"
      ]
     },
     "execution_count": 96,
     "metadata": {},
     "output_type": "execute_result"
    }
   ],
   "source": [
    "d"
   ]
  },
  {
   "cell_type": "markdown",
   "id": "b2e0b2ca-841e-466e-aeec-ba475cd18317",
   "metadata": {},
   "source": [
    "Now you may notice dictionaries are quite similar to sets –– and you are right! Their underlying implementation is nearly the same: both are built on top of hash tables. In this way, they can provide fast lookups."
   ]
  },
  {
   "cell_type": "markdown",
   "id": "a8af8af0",
   "metadata": {},
   "source": [
    "### Converting from one type to another"
   ]
  },
  {
   "cell_type": "code",
   "execution_count": 97,
   "id": "90dd1f9f",
   "metadata": {},
   "outputs": [],
   "source": [
    "mylist = [3,1,4,1]"
   ]
  },
  {
   "cell_type": "markdown",
   "id": "ad40f915",
   "metadata": {},
   "source": [
    "Creating a tuple out of `mylist` and does not actually change the value of `mylist` itself."
   ]
  },
  {
   "cell_type": "code",
   "execution_count": 98,
   "id": "3af3bd01",
   "metadata": {},
   "outputs": [
    {
     "data": {
      "text/plain": [
       "(3, 1, 4, 1)"
      ]
     },
     "execution_count": 98,
     "metadata": {},
     "output_type": "execute_result"
    }
   ],
   "source": [
    "tuple(mylist)"
   ]
  },
  {
   "cell_type": "code",
   "execution_count": 99,
   "id": "f211af71",
   "metadata": {},
   "outputs": [
    {
     "data": {
      "text/plain": [
       "list"
      ]
     },
     "execution_count": 99,
     "metadata": {},
     "output_type": "execute_result"
    }
   ],
   "source": [
    "type(mylist)"
   ]
  },
  {
   "cell_type": "markdown",
   "id": "866311cc",
   "metadata": {},
   "source": [
    "If you actually want to be able to use that tuple you've created, you need to rename/save it."
   ]
  },
  {
   "cell_type": "code",
   "execution_count": 100,
   "id": "6042b2aa",
   "metadata": {},
   "outputs": [],
   "source": [
    "x = tuple(mylist)"
   ]
  },
  {
   "cell_type": "code",
   "execution_count": 101,
   "id": "e837d3ab",
   "metadata": {},
   "outputs": [
    {
     "data": {
      "text/plain": [
       "(3, 1, 4, 1)"
      ]
     },
     "execution_count": 101,
     "metadata": {},
     "output_type": "execute_result"
    }
   ],
   "source": [
    "x"
   ]
  },
  {
   "cell_type": "markdown",
   "id": "08d07d4a-5347-4b64-8f45-e9e831c4decc",
   "metadata": {},
   "source": [
    "You can also convert a tuple to a list:"
   ]
  },
  {
   "cell_type": "code",
   "execution_count": 102,
   "id": "62a51345-6809-41e9-b611-eda448dd19bc",
   "metadata": {},
   "outputs": [
    {
     "data": {
      "text/plain": [
       "[3, 1, 4, 1]"
      ]
     },
     "execution_count": 102,
     "metadata": {},
     "output_type": "execute_result"
    }
   ],
   "source": [
    "mytuple = (3,1,4,1)\n",
    "list(mytuple)"
   ]
  },
  {
   "cell_type": "markdown",
   "id": "5671b269",
   "metadata": {},
   "source": [
    "Many of the objects we have seen so far can be converted into other data types.  For example: string --> list."
   ]
  },
  {
   "cell_type": "code",
   "execution_count": 103,
   "id": "87cc6fff",
   "metadata": {},
   "outputs": [],
   "source": [
    "s = \"Hello world\""
   ]
  },
  {
   "cell_type": "code",
   "execution_count": 104,
   "id": "4c8e2481",
   "metadata": {},
   "outputs": [
    {
     "data": {
      "text/plain": [
       "['H', 'e', 'l', 'l', 'o', ' ', 'w', 'o', 'r', 'l', 'd']"
      ]
     },
     "execution_count": 104,
     "metadata": {},
     "output_type": "execute_result"
    }
   ],
   "source": [
    "list(s) # a lits of characters"
   ]
  },
  {
   "cell_type": "code",
   "execution_count": 105,
   "id": "9c4ccc8b",
   "metadata": {},
   "outputs": [
    {
     "name": "stdout",
     "output_type": "stream",
     "text": [
      "H\n",
      "e\n",
      "l\n",
      "l\n",
      "o\n",
      " \n",
      "w\n",
      "o\n",
      "r\n",
      "l\n",
      "d\n"
     ]
    }
   ],
   "source": [
    "for x in s:\n",
    "    print(x)"
   ]
  },
  {
   "cell_type": "markdown",
   "id": "756b8ca9-165c-464f-9dc9-1ed7306dcad1",
   "metadata": {},
   "source": [
    "To convert a list to a string is not straightforward:"
   ]
  },
  {
   "cell_type": "code",
   "execution_count": 106,
   "id": "07e27ec5-3495-4e66-8ba5-93853d7cdcb5",
   "metadata": {},
   "outputs": [
    {
     "data": {
      "text/plain": [
       "'Hello world'"
      ]
     },
     "execution_count": 106,
     "metadata": {},
     "output_type": "execute_result"
    }
   ],
   "source": [
    "t = ['H', 'e', 'l', 'l', 'o', ' ', 'w', 'o', 'r', 'l', 'd']\n",
    "# Here, join concatenates a list of strings into a single string, with a separator between them. \n",
    "# The separator here is nothing (\"\")\n",
    "\"\".join(t) "
   ]
  },
  {
   "cell_type": "code",
   "execution_count": 107,
   "id": "422036c7-c8cb-40f9-9beb-ac69332cf09a",
   "metadata": {},
   "outputs": [
    {
     "data": {
      "text/plain": [
       "'H-e-l-l-o- -w-o-r-l-d'"
      ]
     },
     "execution_count": 107,
     "metadata": {},
     "output_type": "execute_result"
    }
   ],
   "source": [
    "\"-\".join(t) # Use hyphen as the separator"
   ]
  },
  {
   "cell_type": "markdown",
   "id": "bf47f91e",
   "metadata": {},
   "source": [
    "Here is an example where conversion does not work.  This particular list `mylist` cannot be converted to a dictionary."
   ]
  },
  {
   "cell_type": "code",
   "execution_count": 108,
   "id": "25386837",
   "metadata": {},
   "outputs": [
    {
     "data": {
      "text/plain": [
       "[3, 1, 4, 1]"
      ]
     },
     "execution_count": 108,
     "metadata": {},
     "output_type": "execute_result"
    }
   ],
   "source": [
    "mylist"
   ]
  },
  {
   "cell_type": "code",
   "execution_count": 109,
   "id": "946d25fb",
   "metadata": {},
   "outputs": [
    {
     "ename": "TypeError",
     "evalue": "cannot convert dictionary update sequence element #0 to a sequence",
     "output_type": "error",
     "traceback": [
      "\u001b[0;31m---------------------------------------------------------------------------\u001b[0m",
      "\u001b[0;31mTypeError\u001b[0m                                 Traceback (most recent call last)",
      "Cell \u001b[0;32mIn[109], line 1\u001b[0m\n\u001b[0;32m----> 1\u001b[0m \u001b[38;5;28mdict\u001b[39m(mylist)\n",
      "\u001b[0;31mTypeError\u001b[0m: cannot convert dictionary update sequence element #0 to a sequence"
     ]
    }
   ],
   "source": [
    "dict(mylist)"
   ]
  },
  {
   "cell_type": "markdown",
   "id": "22d8f0ba",
   "metadata": {},
   "source": [
    "We can convert a list to a dictionary, if we’re a little more careful and make it easy for Python to gather key-value pairs.  \n",
    "\n",
    "For example, this list of length-2 tuples can be converted.  Python interprets the 0th element in each tuple as the key and the 1st element in each tuple as the value.  (Remember that keys can't be repeated in a dictionary, which is why we only see the key `1` one time. **Each key can only have one value.**)"
   ]
  },
  {
   "cell_type": "code",
   "execution_count": 110,
   "id": "a12b1bc1",
   "metadata": {},
   "outputs": [],
   "source": [
    "mylist2 = [(3,\"a\"),(1,\"b\"),(1,\"c\")]"
   ]
  },
  {
   "cell_type": "code",
   "execution_count": 111,
   "id": "d531204c",
   "metadata": {},
   "outputs": [
    {
     "data": {
      "text/plain": [
       "{3: 'a', 1: 'c'}"
      ]
     },
     "execution_count": 111,
     "metadata": {},
     "output_type": "execute_result"
    }
   ],
   "source": [
    "dict(mylist2) # the value to the key \"1\" has been overwritten"
   ]
  },
  {
   "cell_type": "markdown",
   "id": "3ec9a5d6",
   "metadata": {},
   "source": [
    "A surprisingly useful conversion (that is often done automatically) is going from the Boolean values `True` and `False` to the integer values `1` and `0` (respectively).  One reason this is useful is that if you add together the elements in a list or array of Trues and Falses, the result will be exactly the number of Trues."
   ]
  },
  {
   "cell_type": "code",
   "execution_count": 112,
   "id": "2f70371f",
   "metadata": {},
   "outputs": [
    {
     "data": {
      "text/plain": [
       "1"
      ]
     },
     "execution_count": 112,
     "metadata": {},
     "output_type": "execute_result"
    }
   ],
   "source": [
    "int(True)"
   ]
  },
  {
   "cell_type": "code",
   "execution_count": 113,
   "id": "3de403cc",
   "metadata": {},
   "outputs": [
    {
     "data": {
      "text/plain": [
       "0"
      ]
     },
     "execution_count": 113,
     "metadata": {},
     "output_type": "execute_result"
    }
   ],
   "source": [
    "int(False)"
   ]
  },
  {
   "cell_type": "markdown",
   "id": "dd5bad9d",
   "metadata": {},
   "source": [
    "You can also add an integer to a Boolean value, and Python will automatically convert the Boolean value to an integer before doing the addition.  This functionality itself is not very important, but it's very important to remember in general that **`True` corresponds to `1` and that `False` corresponds to `0`.**"
   ]
  },
  {
   "cell_type": "code",
   "execution_count": 114,
   "id": "13afaec3",
   "metadata": {},
   "outputs": [
    {
     "data": {
      "text/plain": [
       "5"
      ]
     },
     "execution_count": 114,
     "metadata": {},
     "output_type": "execute_result"
    }
   ],
   "source": [
    "4+True"
   ]
  },
  {
   "cell_type": "markdown",
   "id": "239b683b",
   "metadata": {},
   "source": [
    "### Timing comparisons"
   ]
  },
  {
   "cell_type": "markdown",
   "id": "04068ad4",
   "metadata": {},
   "source": [
    "A fundamental example of sets over lists and tuples is that you can search in a set (whose elements are hashable) much faster."
   ]
  },
  {
   "cell_type": "code",
   "execution_count": 115,
   "id": "6332b7f1",
   "metadata": {},
   "outputs": [
    {
     "data": {
      "text/plain": [
       "10000000"
      ]
     },
     "execution_count": 115,
     "metadata": {},
     "output_type": "execute_result"
    }
   ],
   "source": [
    "10000000"
   ]
  },
  {
   "cell_type": "markdown",
   "id": "bdd9a7d0",
   "metadata": {},
   "source": [
    "That integer is pretty hard to read.  Notice that we **cannot** make exponents in Python using the caret symbol `^`, instead you have to use `**`.\n",
    "`^`: Bitwise XOR (you don't need to worry about this)"
   ]
  },
  {
   "cell_type": "code",
   "execution_count": 116,
   "id": "fbb3fc7b",
   "metadata": {},
   "outputs": [
    {
     "data": {
      "text/plain": [
       "13"
      ]
     },
     "execution_count": 116,
     "metadata": {},
     "output_type": "execute_result"
    }
   ],
   "source": [
    "10^7"
   ]
  },
  {
   "cell_type": "code",
   "execution_count": 117,
   "id": "ec076bf6",
   "metadata": {},
   "outputs": [
    {
     "data": {
      "text/plain": [
       "10000000"
      ]
     },
     "execution_count": 117,
     "metadata": {},
     "output_type": "execute_result"
    }
   ],
   "source": [
    "10**7"
   ]
  },
  {
   "cell_type": "markdown",
   "id": "d361fb8e-6876-4451-ba59-ab236ab8305f",
   "metadata": {},
   "source": [
    "Or you may use the scientific notation `e`. Here, `aeb` means $a \\times 10^{b}$.\\\n",
    "`b` could be positive, negative or zero, but it MUST be an integer."
   ]
  },
  {
   "cell_type": "code",
   "execution_count": 118,
   "id": "5acfe95f-cb48-4555-aa88-c68c645221dd",
   "metadata": {},
   "outputs": [
    {
     "data": {
      "text/plain": [
       "0.025"
      ]
     },
     "execution_count": 118,
     "metadata": {},
     "output_type": "execute_result"
    }
   ],
   "source": [
    "2.5e-2 # You do not need the brackets for negative exponents"
   ]
  },
  {
   "cell_type": "code",
   "execution_count": 119,
   "id": "b1d3e97a-93f0-4334-9879-a154648ca022",
   "metadata": {},
   "outputs": [
    {
     "data": {
      "text/plain": [
       "True"
      ]
     },
     "execution_count": 119,
     "metadata": {},
     "output_type": "execute_result"
    }
   ],
   "source": [
    "10000000 == 1e7"
   ]
  },
  {
   "cell_type": "markdown",
   "id": "557f9517",
   "metadata": {},
   "source": [
    "==================================================\n",
    "\n",
    "_**<font color = blue>In-class Exercise 4</font>**_: Make a range object from 0 to 10000000, with step size 3. Then convert it into a list, into a tuple, and into a set."
   ]
  },
  {
   "cell_type": "code",
   "execution_count": 120,
   "id": "72aba310",
   "metadata": {},
   "outputs": [],
   "source": [
    "# write your code below\n"
   ]
  },
  {
   "cell_type": "markdown",
   "id": "933c1927",
   "metadata": {},
   "source": [
    "=================================================="
   ]
  },
  {
   "cell_type": "markdown",
   "id": "c0a3e929",
   "metadata": {},
   "source": [
    "Here we use the operator `in` to check if `0` is in the corresponding object."
   ]
  },
  {
   "cell_type": "code",
   "execution_count": 121,
   "id": "7bf2da17",
   "metadata": {},
   "outputs": [
    {
     "data": {
      "text/plain": [
       "False"
      ]
     },
     "execution_count": 121,
     "metadata": {},
     "output_type": "execute_result"
    }
   ],
   "source": [
    "0 in mylist"
   ]
  },
  {
   "cell_type": "code",
   "execution_count": 122,
   "id": "d5640ef3",
   "metadata": {},
   "outputs": [
    {
     "data": {
      "text/plain": [
       "True"
      ]
     },
     "execution_count": 122,
     "metadata": {},
     "output_type": "execute_result"
    }
   ],
   "source": [
    "1 in mylist"
   ]
  },
  {
   "cell_type": "markdown",
   "id": "ecac3214",
   "metadata": {},
   "source": [
    "Here is a special feature of Jupyter notebooks, where we can time how long an operation takes."
   ]
  },
  {
   "cell_type": "code",
   "execution_count": 123,
   "id": "118a70bb-48f3-449f-b778-8c4e712029b4",
   "metadata": {},
   "outputs": [
    {
     "name": "stdout",
     "output_type": "stream",
     "text": [
      "9.49 ns ± 0.0436 ns per loop (mean ± std. dev. of 7 runs, 100,000,000 loops each)\n"
     ]
    }
   ],
   "source": [
    "%%timeit\n",
    "0 in myset"
   ]
  },
  {
   "cell_type": "code",
   "execution_count": 124,
   "id": "5773d4aa-aa66-485e-837d-82d8e918349b",
   "metadata": {},
   "outputs": [
    {
     "name": "stdout",
     "output_type": "stream",
     "text": [
      "19.6 ns ± 0.078 ns per loop (mean ± std. dev. of 7 runs, 100,000,000 loops each)\n"
     ]
    }
   ],
   "source": [
    "%%timeit\n",
    "0 in mytuple"
   ]
  },
  {
   "cell_type": "code",
   "execution_count": 125,
   "id": "fb61e769",
   "metadata": {},
   "outputs": [
    {
     "name": "stdout",
     "output_type": "stream",
     "text": [
      "20.3 ns ± 0.0568 ns per loop (mean ± std. dev. of 7 runs, 10,000,000 loops each)\n"
     ]
    }
   ],
   "source": [
    "%%timeit\n",
    "0 in mylist"
   ]
  },
  {
   "cell_type": "markdown",
   "id": "1c167b4a",
   "metadata": {},
   "source": [
    "## Other useful links\n",
    "\n",
    "Christopher's youtube video playlist: https://www.youtube.com/watch?v=w3HxawiC-7s&list=PLHfGN68wSbbIuSS-Y1Y5zYDPN59OaggpA"
   ]
  },
  {
   "cell_type": "code",
   "execution_count": null,
   "id": "38d80e4f-14cf-49d2-afad-4a0d4d87a71b",
   "metadata": {},
   "outputs": [],
   "source": []
  }
 ],
 "metadata": {
  "kernelspec": {
   "display_name": "Python 3 (ipykernel)",
   "language": "python",
   "name": "python3"
  },
  "language_info": {
   "codemirror_mode": {
    "name": "ipython",
    "version": 3
   },
   "file_extension": ".py",
   "mimetype": "text/x-python",
   "name": "python",
   "nbconvert_exporter": "python",
   "pygments_lexer": "ipython3",
   "version": "3.11.4"
  }
 },
 "nbformat": 4,
 "nbformat_minor": 5
}
